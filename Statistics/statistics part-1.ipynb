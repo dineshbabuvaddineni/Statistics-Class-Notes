{
 "cells": [
  {
   "cell_type": "markdown",
   "id": "dc97a96f",
   "metadata": {},
   "source": [
    "#### Follow me on:\n",
    "#### Linkedin--->  www.linkedin.com/in/dinesh-babu-vaddineni-11b746147\n",
    "#### GitHub   --->  https://github.com/dineshbabuvaddineni/Statistics-Class-Notes\n",
    "\n",
    "#### for more such content \n"
   ]
  },
  {
   "cell_type": "markdown",
   "id": "f8ca55b0",
   "metadata": {},
   "source": [
    "# ------------------------------  Statistics  -------------------------------"
   ]
  },
  {
   "cell_type": "code",
   "execution_count": 13,
   "id": "60a34eb1",
   "metadata": {},
   "outputs": [],
   "source": [
    "data=[23,24,32,45,12,43,67,45,32,56,32]"
   ]
  },
  {
   "cell_type": "code",
   "execution_count": 14,
   "id": "02457c43",
   "metadata": {},
   "outputs": [
    {
     "data": {
      "text/plain": [
       "[23, 24, 32, 45, 12, 43, 67, 45, 32, 56, 32]"
      ]
     },
     "execution_count": 14,
     "metadata": {},
     "output_type": "execute_result"
    }
   ],
   "source": [
    "data\n"
   ]
  },
  {
   "cell_type": "code",
   "execution_count": 7,
   "id": "9cdee4ea",
   "metadata": {},
   "outputs": [],
   "source": [
    "import pandas as pd"
   ]
  },
  {
   "cell_type": "code",
   "execution_count": 8,
   "id": "1157040d",
   "metadata": {},
   "outputs": [],
   "source": [
    "iris_data=pd.read_csv(\"Iris.csv\")"
   ]
  },
  {
   "cell_type": "code",
   "execution_count": 9,
   "id": "a29775ca",
   "metadata": {},
   "outputs": [
    {
     "data": {
      "text/html": [
       "<div>\n",
       "<style scoped>\n",
       "    .dataframe tbody tr th:only-of-type {\n",
       "        vertical-align: middle;\n",
       "    }\n",
       "\n",
       "    .dataframe tbody tr th {\n",
       "        vertical-align: top;\n",
       "    }\n",
       "\n",
       "    .dataframe thead th {\n",
       "        text-align: right;\n",
       "    }\n",
       "</style>\n",
       "<table border=\"1\" class=\"dataframe\">\n",
       "  <thead>\n",
       "    <tr style=\"text-align: right;\">\n",
       "      <th></th>\n",
       "      <th>Id</th>\n",
       "      <th>SepalLengthCm</th>\n",
       "      <th>SepalWidthCm</th>\n",
       "      <th>PetalLengthCm</th>\n",
       "      <th>PetalWidthCm</th>\n",
       "      <th>Species</th>\n",
       "    </tr>\n",
       "  </thead>\n",
       "  <tbody>\n",
       "    <tr>\n",
       "      <th>0</th>\n",
       "      <td>1</td>\n",
       "      <td>5.1</td>\n",
       "      <td>3.5</td>\n",
       "      <td>1.4</td>\n",
       "      <td>0.2</td>\n",
       "      <td>Iris-setosa</td>\n",
       "    </tr>\n",
       "    <tr>\n",
       "      <th>1</th>\n",
       "      <td>2</td>\n",
       "      <td>4.9</td>\n",
       "      <td>3.0</td>\n",
       "      <td>1.4</td>\n",
       "      <td>0.2</td>\n",
       "      <td>Iris-setosa</td>\n",
       "    </tr>\n",
       "    <tr>\n",
       "      <th>2</th>\n",
       "      <td>3</td>\n",
       "      <td>4.7</td>\n",
       "      <td>3.2</td>\n",
       "      <td>1.3</td>\n",
       "      <td>0.2</td>\n",
       "      <td>Iris-setosa</td>\n",
       "    </tr>\n",
       "    <tr>\n",
       "      <th>3</th>\n",
       "      <td>4</td>\n",
       "      <td>4.6</td>\n",
       "      <td>3.1</td>\n",
       "      <td>1.5</td>\n",
       "      <td>0.2</td>\n",
       "      <td>Iris-setosa</td>\n",
       "    </tr>\n",
       "    <tr>\n",
       "      <th>4</th>\n",
       "      <td>5</td>\n",
       "      <td>5.0</td>\n",
       "      <td>3.6</td>\n",
       "      <td>1.4</td>\n",
       "      <td>0.2</td>\n",
       "      <td>Iris-setosa</td>\n",
       "    </tr>\n",
       "    <tr>\n",
       "      <th>...</th>\n",
       "      <td>...</td>\n",
       "      <td>...</td>\n",
       "      <td>...</td>\n",
       "      <td>...</td>\n",
       "      <td>...</td>\n",
       "      <td>...</td>\n",
       "    </tr>\n",
       "    <tr>\n",
       "      <th>145</th>\n",
       "      <td>146</td>\n",
       "      <td>6.7</td>\n",
       "      <td>3.0</td>\n",
       "      <td>5.2</td>\n",
       "      <td>2.3</td>\n",
       "      <td>Iris-virginica</td>\n",
       "    </tr>\n",
       "    <tr>\n",
       "      <th>146</th>\n",
       "      <td>147</td>\n",
       "      <td>6.3</td>\n",
       "      <td>2.5</td>\n",
       "      <td>5.0</td>\n",
       "      <td>1.9</td>\n",
       "      <td>Iris-virginica</td>\n",
       "    </tr>\n",
       "    <tr>\n",
       "      <th>147</th>\n",
       "      <td>148</td>\n",
       "      <td>6.5</td>\n",
       "      <td>3.0</td>\n",
       "      <td>5.2</td>\n",
       "      <td>2.0</td>\n",
       "      <td>Iris-virginica</td>\n",
       "    </tr>\n",
       "    <tr>\n",
       "      <th>148</th>\n",
       "      <td>149</td>\n",
       "      <td>6.2</td>\n",
       "      <td>3.4</td>\n",
       "      <td>5.4</td>\n",
       "      <td>2.3</td>\n",
       "      <td>Iris-virginica</td>\n",
       "    </tr>\n",
       "    <tr>\n",
       "      <th>149</th>\n",
       "      <td>150</td>\n",
       "      <td>5.9</td>\n",
       "      <td>3.0</td>\n",
       "      <td>5.1</td>\n",
       "      <td>1.8</td>\n",
       "      <td>Iris-virginica</td>\n",
       "    </tr>\n",
       "  </tbody>\n",
       "</table>\n",
       "<p>150 rows × 6 columns</p>\n",
       "</div>"
      ],
      "text/plain": [
       "      Id  SepalLengthCm  SepalWidthCm  PetalLengthCm  PetalWidthCm  \\\n",
       "0      1            5.1           3.5            1.4           0.2   \n",
       "1      2            4.9           3.0            1.4           0.2   \n",
       "2      3            4.7           3.2            1.3           0.2   \n",
       "3      4            4.6           3.1            1.5           0.2   \n",
       "4      5            5.0           3.6            1.4           0.2   \n",
       "..   ...            ...           ...            ...           ...   \n",
       "145  146            6.7           3.0            5.2           2.3   \n",
       "146  147            6.3           2.5            5.0           1.9   \n",
       "147  148            6.5           3.0            5.2           2.0   \n",
       "148  149            6.2           3.4            5.4           2.3   \n",
       "149  150            5.9           3.0            5.1           1.8   \n",
       "\n",
       "            Species  \n",
       "0       Iris-setosa  \n",
       "1       Iris-setosa  \n",
       "2       Iris-setosa  \n",
       "3       Iris-setosa  \n",
       "4       Iris-setosa  \n",
       "..              ...  \n",
       "145  Iris-virginica  \n",
       "146  Iris-virginica  \n",
       "147  Iris-virginica  \n",
       "148  Iris-virginica  \n",
       "149  Iris-virginica  \n",
       "\n",
       "[150 rows x 6 columns]"
      ]
     },
     "execution_count": 9,
     "metadata": {},
     "output_type": "execute_result"
    }
   ],
   "source": [
    "iris_data"
   ]
  },
  {
   "cell_type": "code",
   "execution_count": 10,
   "id": "f16a764b",
   "metadata": {},
   "outputs": [],
   "source": [
    "titanic_data=pd.read_csv(\"titanic.csv\")"
   ]
  },
  {
   "cell_type": "code",
   "execution_count": 11,
   "id": "cd6c46d9",
   "metadata": {},
   "outputs": [
    {
     "data": {
      "text/html": [
       "<div>\n",
       "<style scoped>\n",
       "    .dataframe tbody tr th:only-of-type {\n",
       "        vertical-align: middle;\n",
       "    }\n",
       "\n",
       "    .dataframe tbody tr th {\n",
       "        vertical-align: top;\n",
       "    }\n",
       "\n",
       "    .dataframe thead th {\n",
       "        text-align: right;\n",
       "    }\n",
       "</style>\n",
       "<table border=\"1\" class=\"dataframe\">\n",
       "  <thead>\n",
       "    <tr style=\"text-align: right;\">\n",
       "      <th></th>\n",
       "      <th>PassengerId</th>\n",
       "      <th>Survived</th>\n",
       "      <th>Pclass</th>\n",
       "      <th>Name</th>\n",
       "      <th>Sex</th>\n",
       "      <th>Age</th>\n",
       "      <th>SibSp</th>\n",
       "      <th>Parch</th>\n",
       "      <th>Ticket</th>\n",
       "      <th>Fare</th>\n",
       "      <th>Cabin</th>\n",
       "      <th>Embarked</th>\n",
       "    </tr>\n",
       "  </thead>\n",
       "  <tbody>\n",
       "    <tr>\n",
       "      <th>0</th>\n",
       "      <td>1</td>\n",
       "      <td>0</td>\n",
       "      <td>3</td>\n",
       "      <td>Braund, Mr. Owen Harris</td>\n",
       "      <td>male</td>\n",
       "      <td>22.0</td>\n",
       "      <td>1</td>\n",
       "      <td>0</td>\n",
       "      <td>A/5 21171</td>\n",
       "      <td>7.2500</td>\n",
       "      <td>NaN</td>\n",
       "      <td>S</td>\n",
       "    </tr>\n",
       "    <tr>\n",
       "      <th>1</th>\n",
       "      <td>2</td>\n",
       "      <td>1</td>\n",
       "      <td>1</td>\n",
       "      <td>Cumings, Mrs. John Bradley (Florence Briggs Th...</td>\n",
       "      <td>female</td>\n",
       "      <td>38.0</td>\n",
       "      <td>1</td>\n",
       "      <td>0</td>\n",
       "      <td>PC 17599</td>\n",
       "      <td>71.2833</td>\n",
       "      <td>C85</td>\n",
       "      <td>C</td>\n",
       "    </tr>\n",
       "    <tr>\n",
       "      <th>2</th>\n",
       "      <td>3</td>\n",
       "      <td>1</td>\n",
       "      <td>3</td>\n",
       "      <td>Heikkinen, Miss. Laina</td>\n",
       "      <td>female</td>\n",
       "      <td>26.0</td>\n",
       "      <td>0</td>\n",
       "      <td>0</td>\n",
       "      <td>STON/O2. 3101282</td>\n",
       "      <td>7.9250</td>\n",
       "      <td>NaN</td>\n",
       "      <td>S</td>\n",
       "    </tr>\n",
       "    <tr>\n",
       "      <th>3</th>\n",
       "      <td>4</td>\n",
       "      <td>1</td>\n",
       "      <td>1</td>\n",
       "      <td>Futrelle, Mrs. Jacques Heath (Lily May Peel)</td>\n",
       "      <td>female</td>\n",
       "      <td>35.0</td>\n",
       "      <td>1</td>\n",
       "      <td>0</td>\n",
       "      <td>113803</td>\n",
       "      <td>53.1000</td>\n",
       "      <td>C123</td>\n",
       "      <td>S</td>\n",
       "    </tr>\n",
       "    <tr>\n",
       "      <th>4</th>\n",
       "      <td>5</td>\n",
       "      <td>0</td>\n",
       "      <td>3</td>\n",
       "      <td>Allen, Mr. William Henry</td>\n",
       "      <td>male</td>\n",
       "      <td>35.0</td>\n",
       "      <td>0</td>\n",
       "      <td>0</td>\n",
       "      <td>373450</td>\n",
       "      <td>8.0500</td>\n",
       "      <td>NaN</td>\n",
       "      <td>S</td>\n",
       "    </tr>\n",
       "    <tr>\n",
       "      <th>...</th>\n",
       "      <td>...</td>\n",
       "      <td>...</td>\n",
       "      <td>...</td>\n",
       "      <td>...</td>\n",
       "      <td>...</td>\n",
       "      <td>...</td>\n",
       "      <td>...</td>\n",
       "      <td>...</td>\n",
       "      <td>...</td>\n",
       "      <td>...</td>\n",
       "      <td>...</td>\n",
       "      <td>...</td>\n",
       "    </tr>\n",
       "    <tr>\n",
       "      <th>886</th>\n",
       "      <td>887</td>\n",
       "      <td>0</td>\n",
       "      <td>2</td>\n",
       "      <td>Montvila, Rev. Juozas</td>\n",
       "      <td>male</td>\n",
       "      <td>27.0</td>\n",
       "      <td>0</td>\n",
       "      <td>0</td>\n",
       "      <td>211536</td>\n",
       "      <td>13.0000</td>\n",
       "      <td>NaN</td>\n",
       "      <td>S</td>\n",
       "    </tr>\n",
       "    <tr>\n",
       "      <th>887</th>\n",
       "      <td>888</td>\n",
       "      <td>1</td>\n",
       "      <td>1</td>\n",
       "      <td>Graham, Miss. Margaret Edith</td>\n",
       "      <td>female</td>\n",
       "      <td>19.0</td>\n",
       "      <td>0</td>\n",
       "      <td>0</td>\n",
       "      <td>112053</td>\n",
       "      <td>30.0000</td>\n",
       "      <td>B42</td>\n",
       "      <td>S</td>\n",
       "    </tr>\n",
       "    <tr>\n",
       "      <th>888</th>\n",
       "      <td>889</td>\n",
       "      <td>0</td>\n",
       "      <td>3</td>\n",
       "      <td>Johnston, Miss. Catherine Helen \"Carrie\"</td>\n",
       "      <td>female</td>\n",
       "      <td>NaN</td>\n",
       "      <td>1</td>\n",
       "      <td>2</td>\n",
       "      <td>W./C. 6607</td>\n",
       "      <td>23.4500</td>\n",
       "      <td>NaN</td>\n",
       "      <td>S</td>\n",
       "    </tr>\n",
       "    <tr>\n",
       "      <th>889</th>\n",
       "      <td>890</td>\n",
       "      <td>1</td>\n",
       "      <td>1</td>\n",
       "      <td>Behr, Mr. Karl Howell</td>\n",
       "      <td>male</td>\n",
       "      <td>26.0</td>\n",
       "      <td>0</td>\n",
       "      <td>0</td>\n",
       "      <td>111369</td>\n",
       "      <td>30.0000</td>\n",
       "      <td>C148</td>\n",
       "      <td>C</td>\n",
       "    </tr>\n",
       "    <tr>\n",
       "      <th>890</th>\n",
       "      <td>891</td>\n",
       "      <td>0</td>\n",
       "      <td>3</td>\n",
       "      <td>Dooley, Mr. Patrick</td>\n",
       "      <td>male</td>\n",
       "      <td>32.0</td>\n",
       "      <td>0</td>\n",
       "      <td>0</td>\n",
       "      <td>370376</td>\n",
       "      <td>7.7500</td>\n",
       "      <td>NaN</td>\n",
       "      <td>Q</td>\n",
       "    </tr>\n",
       "  </tbody>\n",
       "</table>\n",
       "<p>891 rows × 12 columns</p>\n",
       "</div>"
      ],
      "text/plain": [
       "     PassengerId  Survived  Pclass  \\\n",
       "0              1         0       3   \n",
       "1              2         1       1   \n",
       "2              3         1       3   \n",
       "3              4         1       1   \n",
       "4              5         0       3   \n",
       "..           ...       ...     ...   \n",
       "886          887         0       2   \n",
       "887          888         1       1   \n",
       "888          889         0       3   \n",
       "889          890         1       1   \n",
       "890          891         0       3   \n",
       "\n",
       "                                                  Name     Sex   Age  SibSp  \\\n",
       "0                              Braund, Mr. Owen Harris    male  22.0      1   \n",
       "1    Cumings, Mrs. John Bradley (Florence Briggs Th...  female  38.0      1   \n",
       "2                               Heikkinen, Miss. Laina  female  26.0      0   \n",
       "3         Futrelle, Mrs. Jacques Heath (Lily May Peel)  female  35.0      1   \n",
       "4                             Allen, Mr. William Henry    male  35.0      0   \n",
       "..                                                 ...     ...   ...    ...   \n",
       "886                              Montvila, Rev. Juozas    male  27.0      0   \n",
       "887                       Graham, Miss. Margaret Edith  female  19.0      0   \n",
       "888           Johnston, Miss. Catherine Helen \"Carrie\"  female   NaN      1   \n",
       "889                              Behr, Mr. Karl Howell    male  26.0      0   \n",
       "890                                Dooley, Mr. Patrick    male  32.0      0   \n",
       "\n",
       "     Parch            Ticket     Fare Cabin Embarked  \n",
       "0        0         A/5 21171   7.2500   NaN        S  \n",
       "1        0          PC 17599  71.2833   C85        C  \n",
       "2        0  STON/O2. 3101282   7.9250   NaN        S  \n",
       "3        0            113803  53.1000  C123        S  \n",
       "4        0            373450   8.0500   NaN        S  \n",
       "..     ...               ...      ...   ...      ...  \n",
       "886      0            211536  13.0000   NaN        S  \n",
       "887      0            112053  30.0000   B42        S  \n",
       "888      2        W./C. 6607  23.4500   NaN        S  \n",
       "889      0            111369  30.0000  C148        C  \n",
       "890      0            370376   7.7500   NaN        Q  \n",
       "\n",
       "[891 rows x 12 columns]"
      ]
     },
     "execution_count": 11,
     "metadata": {},
     "output_type": "execute_result"
    }
   ],
   "source": [
    "titanic_data"
   ]
  },
  {
   "cell_type": "raw",
   "id": "50d3f9b5",
   "metadata": {},
   "source": [
    "--->some important libararies for implementing stastical concepts\n",
    "pandas\n",
    "numpy\n",
    "matplotlib\n",
    "seaborn\n",
    "statsmodel\n",
    "statistics"
   ]
  },
  {
   "cell_type": "markdown",
   "id": "b65f4ecd",
   "metadata": {},
   "source": [
    "### Descriptive Statistics\n",
    "\n",
    "1. Measure of Cental Tendency.\n",
    "   - Mean\n",
    "   - Median\n",
    "   - Mode"
   ]
  },
  {
   "cell_type": "code",
   "execution_count": 73,
   "id": "8ae3d785",
   "metadata": {},
   "outputs": [
    {
     "data": {
      "text/plain": [
       "[12, 23, 24, 32, 32, 32, 43, 45, 45, 56, 67]"
      ]
     },
     "execution_count": 73,
     "metadata": {},
     "output_type": "execute_result"
    }
   ],
   "source": [
    "data"
   ]
  },
  {
   "cell_type": "code",
   "execution_count": 74,
   "id": "4cb116b7",
   "metadata": {},
   "outputs": [],
   "source": [
    "data.sort()"
   ]
  },
  {
   "cell_type": "code",
   "execution_count": 75,
   "id": "84242fd4",
   "metadata": {},
   "outputs": [
    {
     "data": {
      "text/plain": [
       "[12, 23, 24, 32, 32, 32, 43, 45, 45, 56, 67]"
      ]
     },
     "execution_count": 75,
     "metadata": {},
     "output_type": "execute_result"
    }
   ],
   "source": [
    "data"
   ]
  },
  {
   "cell_type": "code",
   "execution_count": 76,
   "id": "c9be3a2d",
   "metadata": {},
   "outputs": [],
   "source": [
    "dcopy=data.copy()"
   ]
  },
  {
   "cell_type": "code",
   "execution_count": 77,
   "id": "2d50a14d",
   "metadata": {},
   "outputs": [
    {
     "data": {
      "text/plain": [
       "[12, 23, 24, 32, 32, 32, 43, 45, 45, 56, 67]"
      ]
     },
     "execution_count": 77,
     "metadata": {},
     "output_type": "execute_result"
    }
   ],
   "source": [
    "dcopy"
   ]
  },
  {
   "cell_type": "markdown",
   "id": "741ce1ff",
   "metadata": {},
   "source": [
    "# 1. Mean"
   ]
  },
  {
   "cell_type": "code",
   "execution_count": 78,
   "id": "3b23bbe8",
   "metadata": {},
   "outputs": [
    {
     "data": {
      "text/plain": [
       "37.36363636363637"
      ]
     },
     "execution_count": 78,
     "metadata": {},
     "output_type": "execute_result"
    }
   ],
   "source": [
    "import numpy as np\n",
    "np.mean(data)"
   ]
  },
  {
   "cell_type": "code",
   "execution_count": 80,
   "id": "781c616e",
   "metadata": {},
   "outputs": [
    {
     "data": {
      "text/plain": [
       "5.843333333333334"
      ]
     },
     "execution_count": 80,
     "metadata": {},
     "output_type": "execute_result"
    }
   ],
   "source": [
    "# mean of SepalLengthCm\n",
    "np.mean(iris_data[\"SepalLengthCm\"])"
   ]
  },
  {
   "cell_type": "code",
   "execution_count": 83,
   "id": "36f6e8ba",
   "metadata": {},
   "outputs": [],
   "source": [
    "#python progrmme for mean of data\n",
    "def mean_data(data):\n",
    "    sum=0\n",
    "    for i in data:\n",
    "        sum=sum+i\n",
    "    mean=sum/len(data)\n",
    "    return mean\n",
    "\n",
    "        "
   ]
  },
  {
   "cell_type": "code",
   "execution_count": 84,
   "id": "629db5c3",
   "metadata": {},
   "outputs": [
    {
     "data": {
      "text/plain": [
       "37.36363636363637"
      ]
     },
     "execution_count": 84,
     "metadata": {},
     "output_type": "execute_result"
    }
   ],
   "source": [
    "mean_data(data)"
   ]
  },
  {
   "cell_type": "code",
   "execution_count": 85,
   "id": "a1c1ce3c",
   "metadata": {},
   "outputs": [],
   "source": [
    "dcopy.append(100)"
   ]
  },
  {
   "cell_type": "code",
   "execution_count": 86,
   "id": "b9470c31",
   "metadata": {},
   "outputs": [
    {
     "data": {
      "text/plain": [
       "[12, 23, 24, 32, 32, 32, 43, 45, 45, 56, 67, 100]"
      ]
     },
     "execution_count": 86,
     "metadata": {},
     "output_type": "execute_result"
    }
   ],
   "source": [
    "dcopy"
   ]
  },
  {
   "cell_type": "code",
   "execution_count": 87,
   "id": "930f3865",
   "metadata": {},
   "outputs": [
    {
     "data": {
      "text/plain": [
       "42.583333333333336"
      ]
     },
     "execution_count": 87,
     "metadata": {},
     "output_type": "execute_result"
    }
   ],
   "source": [
    "np.mean(dcopy)"
   ]
  },
  {
   "cell_type": "code",
   "execution_count": 95,
   "id": "1f9c26c8",
   "metadata": {},
   "outputs": [],
   "source": [
    "dcop2=data.copy()"
   ]
  },
  {
   "cell_type": "code",
   "execution_count": 96,
   "id": "d77463bd",
   "metadata": {},
   "outputs": [],
   "source": [
    "dcop2.append(200)"
   ]
  },
  {
   "cell_type": "code",
   "execution_count": 97,
   "id": "48b021a8",
   "metadata": {},
   "outputs": [
    {
     "data": {
      "text/plain": [
       "[12, 23, 24, 32, 32, 32, 43, 45, 45, 56, 67, 200]"
      ]
     },
     "execution_count": 97,
     "metadata": {},
     "output_type": "execute_result"
    }
   ],
   "source": [
    "dcop2"
   ]
  },
  {
   "cell_type": "code",
   "execution_count": 99,
   "id": "73105007",
   "metadata": {},
   "outputs": [
    {
     "data": {
      "text/plain": [
       "50.916666666666664"
      ]
     },
     "execution_count": 99,
     "metadata": {},
     "output_type": "execute_result"
    }
   ],
   "source": [
    "np.mean(dcop2) \n",
    "# Here if you observe because of outlier(200) the mean is deviatingfrom 42.583 to 50.91\n",
    "# In this case median helps to provide correct information about the data."
   ]
  },
  {
   "cell_type": "markdown",
   "id": "6e04e76f",
   "metadata": {},
   "source": [
    "# Median"
   ]
  },
  {
   "cell_type": "code",
   "execution_count": 100,
   "id": "5c376845",
   "metadata": {},
   "outputs": [
    {
     "data": {
      "text/plain": [
       "37.5"
      ]
     },
     "execution_count": 100,
     "metadata": {},
     "output_type": "execute_result"
    }
   ],
   "source": [
    "np.median(dcop2)"
   ]
  },
  {
   "cell_type": "code",
   "execution_count": 113,
   "id": "4a46c1fe",
   "metadata": {},
   "outputs": [
    {
     "data": {
      "text/plain": [
       "32.0"
      ]
     },
     "execution_count": 113,
     "metadata": {},
     "output_type": "execute_result"
    }
   ],
   "source": [
    "np.median(data)"
   ]
  },
  {
   "cell_type": "markdown",
   "id": "b0eb85da",
   "metadata": {},
   "source": [
    "# Mode"
   ]
  },
  {
   "cell_type": "code",
   "execution_count": 103,
   "id": "005d790f",
   "metadata": {},
   "outputs": [
    {
     "ename": "AttributeError",
     "evalue": "module 'numpy' has no attribute 'mode'",
     "output_type": "error",
     "traceback": [
      "\u001b[1;31m---------------------------------------------------------------------------\u001b[0m",
      "\u001b[1;31mAttributeError\u001b[0m                            Traceback (most recent call last)",
      "Cell \u001b[1;32mIn[103], line 1\u001b[0m\n\u001b[1;32m----> 1\u001b[0m \u001b[43mnp\u001b[49m\u001b[38;5;241;43m.\u001b[39;49m\u001b[43mmode\u001b[49m(data)\n",
      "File \u001b[1;32m~\\anaconda3\\lib\\site-packages\\numpy\\__init__.py:311\u001b[0m, in \u001b[0;36m__getattr__\u001b[1;34m(attr)\u001b[0m\n\u001b[0;32m    308\u001b[0m     \u001b[38;5;28;01mfrom\u001b[39;00m \u001b[38;5;21;01m.\u001b[39;00m\u001b[38;5;21;01mtesting\u001b[39;00m \u001b[38;5;28;01mimport\u001b[39;00m Tester\n\u001b[0;32m    309\u001b[0m     \u001b[38;5;28;01mreturn\u001b[39;00m Tester\n\u001b[1;32m--> 311\u001b[0m \u001b[38;5;28;01mraise\u001b[39;00m \u001b[38;5;167;01mAttributeError\u001b[39;00m(\u001b[38;5;124m\"\u001b[39m\u001b[38;5;124mmodule \u001b[39m\u001b[38;5;132;01m{!r}\u001b[39;00m\u001b[38;5;124m has no attribute \u001b[39m\u001b[38;5;124m\"\u001b[39m\n\u001b[0;32m    312\u001b[0m                      \u001b[38;5;124m\"\u001b[39m\u001b[38;5;132;01m{!r}\u001b[39;00m\u001b[38;5;124m\"\u001b[39m\u001b[38;5;241m.\u001b[39mformat(\u001b[38;5;18m__name__\u001b[39m, attr))\n",
      "\u001b[1;31mAttributeError\u001b[0m: module 'numpy' has no attribute 'mode'"
     ]
    }
   ],
   "source": [
    "np.mode(data)"
   ]
  },
  {
   "cell_type": "code",
   "execution_count": 104,
   "id": "5fa673e0",
   "metadata": {},
   "outputs": [],
   "source": [
    "import statistics as stats"
   ]
  },
  {
   "cell_type": "code",
   "execution_count": 105,
   "id": "d52abcaa",
   "metadata": {},
   "outputs": [
    {
     "data": {
      "text/plain": [
       "32"
      ]
     },
     "execution_count": 105,
     "metadata": {},
     "output_type": "execute_result"
    }
   ],
   "source": [
    "stats.mode(data)"
   ]
  },
  {
   "cell_type": "code",
   "execution_count": 106,
   "id": "140d1c3e",
   "metadata": {},
   "outputs": [],
   "source": [
    "from scipy import stats as st"
   ]
  },
  {
   "cell_type": "code",
   "execution_count": 107,
   "id": "31f22a53",
   "metadata": {},
   "outputs": [
    {
     "name": "stderr",
     "output_type": "stream",
     "text": [
      "C:\\Users\\V.Dinesh Babu\\AppData\\Local\\Temp\\ipykernel_16104\\1907925539.py:1: FutureWarning: Unlike other reduction functions (e.g. `skew`, `kurtosis`), the default behavior of `mode` typically preserves the axis it acts along. In SciPy 1.11.0, this behavior will change: the default value of `keepdims` will become False, the `axis` over which the statistic is taken will be eliminated, and the value None will no longer be accepted. Set `keepdims` to True or False to avoid this warning.\n",
      "  st.mode(data)\n"
     ]
    },
    {
     "data": {
      "text/plain": [
       "ModeResult(mode=array([32]), count=array([3]))"
      ]
     },
     "execution_count": 107,
     "metadata": {},
     "output_type": "execute_result"
    }
   ],
   "source": [
    "st.mode(data)"
   ]
  },
  {
   "cell_type": "markdown",
   "id": "c10ec79b",
   "metadata": {},
   "source": [
    "## percentiles"
   ]
  },
  {
   "cell_type": "code",
   "execution_count": 114,
   "id": "7f223640",
   "metadata": {},
   "outputs": [
    {
     "data": {
      "text/plain": [
       "[12, 23, 24, 32, 32, 32, 43, 45, 45, 56, 67, 200]"
      ]
     },
     "execution_count": 114,
     "metadata": {},
     "output_type": "execute_result"
    }
   ],
   "source": [
    "dcop2"
   ]
  },
  {
   "cell_type": "code",
   "execution_count": 115,
   "id": "1b7dd65f",
   "metadata": {},
   "outputs": [
    {
     "data": {
      "text/plain": [
       "200"
      ]
     },
     "execution_count": 115,
     "metadata": {},
     "output_type": "execute_result"
    }
   ],
   "source": [
    "dcop2.pop()"
   ]
  },
  {
   "cell_type": "code",
   "execution_count": 116,
   "id": "7dd991d9",
   "metadata": {},
   "outputs": [
    {
     "data": {
      "text/plain": [
       "array([28.])"
      ]
     },
     "execution_count": 116,
     "metadata": {},
     "output_type": "execute_result"
    }
   ],
   "source": [
    "np.percentile(data,[25])"
   ]
  },
  {
   "cell_type": "code",
   "execution_count": 117,
   "id": "0f297ba0",
   "metadata": {},
   "outputs": [
    {
     "data": {
      "text/plain": [
       "array([32.])"
      ]
     },
     "execution_count": 117,
     "metadata": {},
     "output_type": "execute_result"
    }
   ],
   "source": [
    "np.percentile(data,[50])"
   ]
  },
  {
   "cell_type": "code",
   "execution_count": 118,
   "id": "23031479",
   "metadata": {},
   "outputs": [
    {
     "data": {
      "text/plain": [
       "array([28., 32., 45., 67.])"
      ]
     },
     "execution_count": 118,
     "metadata": {},
     "output_type": "execute_result"
    }
   ],
   "source": [
    "np.percentile(data,[25,50,75,100])"
   ]
  },
  {
   "cell_type": "markdown",
   "id": "606447e1",
   "metadata": {},
   "source": [
    "# Five point summary\n",
    "     - Lower Fence(min)= Q1-1.5*IQR\n",
    "     - Q1\n",
    "     - Q2\n",
    "     - Q3\n",
    "     - Upper Fence(max)=Q2-1.5*IQR\n",
    "     \n",
    "     - IQR=Q3-Q1"
   ]
  },
  {
   "cell_type": "code",
   "execution_count": 120,
   "id": "6cc504d7",
   "metadata": {},
   "outputs": [
    {
     "data": {
      "text/plain": [
       "[12, 23, 24, 32, 32, 32, 43, 45, 45, 56, 67, 100]"
      ]
     },
     "execution_count": 120,
     "metadata": {},
     "output_type": "execute_result"
    }
   ],
   "source": [
    "dcopy"
   ]
  },
  {
   "cell_type": "code",
   "execution_count": 122,
   "id": "737da456",
   "metadata": {},
   "outputs": [
    {
     "data": {
      "text/plain": [
       "<Axes: >"
      ]
     },
     "execution_count": 122,
     "metadata": {},
     "output_type": "execute_result"
    },
    {
     "data": {
      "image/png": "[encoded data removed]",
      "text/plain": [
       "<Figure size 640x480 with 1 Axes>"
      ]
     },
     "metadata": {},
     "output_type": "display_data"
    }
   ],
   "source": [
    "import seaborn as sns\n",
    "sns.boxplot(dcopy)"
   ]
  },
  {
   "cell_type": "markdown",
   "id": "ff0dd354",
   "metadata": {},
   "source": [
    "# sampling"
   ]
  },
  {
   "cell_type": "code",
   "execution_count": 126,
   "id": "380d9f78",
   "metadata": {},
   "outputs": [
    {
     "data": {
      "text/plain": [
       "45"
      ]
     },
     "execution_count": 126,
     "metadata": {},
     "output_type": "execute_result"
    }
   ],
   "source": [
    "# sample\n",
    "np.random.choice(data)"
   ]
  },
  {
   "cell_type": "code",
   "execution_count": 127,
   "id": "695341b1",
   "metadata": {},
   "outputs": [
    {
     "data": {
      "text/plain": [
       "array([24, 32, 56])"
      ]
     },
     "execution_count": 127,
     "metadata": {},
     "output_type": "execute_result"
    }
   ],
   "source": [
    "np.random.choice(data,size=3)"
   ]
  },
  {
   "cell_type": "code",
   "execution_count": 128,
   "id": "cca89228",
   "metadata": {},
   "outputs": [
    {
     "data": {
      "text/html": [
       "<div>\n",
       "<style scoped>\n",
       "    .dataframe tbody tr th:only-of-type {\n",
       "        vertical-align: middle;\n",
       "    }\n",
       "\n",
       "    .dataframe tbody tr th {\n",
       "        vertical-align: top;\n",
       "    }\n",
       "\n",
       "    .dataframe thead th {\n",
       "        text-align: right;\n",
       "    }\n",
       "</style>\n",
       "<table border=\"1\" class=\"dataframe\">\n",
       "  <thead>\n",
       "    <tr style=\"text-align: right;\">\n",
       "      <th></th>\n",
       "      <th>Id</th>\n",
       "      <th>SepalLengthCm</th>\n",
       "      <th>SepalWidthCm</th>\n",
       "      <th>PetalLengthCm</th>\n",
       "      <th>PetalWidthCm</th>\n",
       "      <th>Species</th>\n",
       "    </tr>\n",
       "  </thead>\n",
       "  <tbody>\n",
       "    <tr>\n",
       "      <th>134</th>\n",
       "      <td>135</td>\n",
       "      <td>6.1</td>\n",
       "      <td>2.6</td>\n",
       "      <td>5.6</td>\n",
       "      <td>1.4</td>\n",
       "      <td>Iris-virginica</td>\n",
       "    </tr>\n",
       "  </tbody>\n",
       "</table>\n",
       "</div>"
      ],
      "text/plain": [
       "      Id  SepalLengthCm  SepalWidthCm  PetalLengthCm  PetalWidthCm  \\\n",
       "134  135            6.1           2.6            5.6           1.4   \n",
       "\n",
       "            Species  \n",
       "134  Iris-virginica  "
      ]
     },
     "execution_count": 128,
     "metadata": {},
     "output_type": "execute_result"
    }
   ],
   "source": [
    "iris_data.sample()"
   ]
  },
  {
   "cell_type": "code",
   "execution_count": 129,
   "id": "6ef7de07",
   "metadata": {},
   "outputs": [
    {
     "data": {
      "text/html": [
       "<div>\n",
       "<style scoped>\n",
       "    .dataframe tbody tr th:only-of-type {\n",
       "        vertical-align: middle;\n",
       "    }\n",
       "\n",
       "    .dataframe tbody tr th {\n",
       "        vertical-align: top;\n",
       "    }\n",
       "\n",
       "    .dataframe thead th {\n",
       "        text-align: right;\n",
       "    }\n",
       "</style>\n",
       "<table border=\"1\" class=\"dataframe\">\n",
       "  <thead>\n",
       "    <tr style=\"text-align: right;\">\n",
       "      <th></th>\n",
       "      <th>Id</th>\n",
       "      <th>SepalLengthCm</th>\n",
       "      <th>SepalWidthCm</th>\n",
       "      <th>PetalLengthCm</th>\n",
       "      <th>PetalWidthCm</th>\n",
       "      <th>Species</th>\n",
       "    </tr>\n",
       "  </thead>\n",
       "  <tbody>\n",
       "    <tr>\n",
       "      <th>50</th>\n",
       "      <td>51</td>\n",
       "      <td>7.0</td>\n",
       "      <td>3.2</td>\n",
       "      <td>4.7</td>\n",
       "      <td>1.4</td>\n",
       "      <td>Iris-versicolor</td>\n",
       "    </tr>\n",
       "    <tr>\n",
       "      <th>121</th>\n",
       "      <td>122</td>\n",
       "      <td>5.6</td>\n",
       "      <td>2.8</td>\n",
       "      <td>4.9</td>\n",
       "      <td>2.0</td>\n",
       "      <td>Iris-virginica</td>\n",
       "    </tr>\n",
       "    <tr>\n",
       "      <th>123</th>\n",
       "      <td>124</td>\n",
       "      <td>6.3</td>\n",
       "      <td>2.7</td>\n",
       "      <td>4.9</td>\n",
       "      <td>1.8</td>\n",
       "      <td>Iris-virginica</td>\n",
       "    </tr>\n",
       "    <tr>\n",
       "      <th>32</th>\n",
       "      <td>33</td>\n",
       "      <td>5.2</td>\n",
       "      <td>4.1</td>\n",
       "      <td>1.5</td>\n",
       "      <td>0.1</td>\n",
       "      <td>Iris-setosa</td>\n",
       "    </tr>\n",
       "    <tr>\n",
       "      <th>25</th>\n",
       "      <td>26</td>\n",
       "      <td>5.0</td>\n",
       "      <td>3.0</td>\n",
       "      <td>1.6</td>\n",
       "      <td>0.2</td>\n",
       "      <td>Iris-setosa</td>\n",
       "    </tr>\n",
       "    <tr>\n",
       "      <th>109</th>\n",
       "      <td>110</td>\n",
       "      <td>7.2</td>\n",
       "      <td>3.6</td>\n",
       "      <td>6.1</td>\n",
       "      <td>2.5</td>\n",
       "      <td>Iris-virginica</td>\n",
       "    </tr>\n",
       "    <tr>\n",
       "      <th>7</th>\n",
       "      <td>8</td>\n",
       "      <td>5.0</td>\n",
       "      <td>3.4</td>\n",
       "      <td>1.5</td>\n",
       "      <td>0.2</td>\n",
       "      <td>Iris-setosa</td>\n",
       "    </tr>\n",
       "    <tr>\n",
       "      <th>31</th>\n",
       "      <td>32</td>\n",
       "      <td>5.4</td>\n",
       "      <td>3.4</td>\n",
       "      <td>1.5</td>\n",
       "      <td>0.4</td>\n",
       "      <td>Iris-setosa</td>\n",
       "    </tr>\n",
       "    <tr>\n",
       "      <th>134</th>\n",
       "      <td>135</td>\n",
       "      <td>6.1</td>\n",
       "      <td>2.6</td>\n",
       "      <td>5.6</td>\n",
       "      <td>1.4</td>\n",
       "      <td>Iris-virginica</td>\n",
       "    </tr>\n",
       "    <tr>\n",
       "      <th>114</th>\n",
       "      <td>115</td>\n",
       "      <td>5.8</td>\n",
       "      <td>2.8</td>\n",
       "      <td>5.1</td>\n",
       "      <td>2.4</td>\n",
       "      <td>Iris-virginica</td>\n",
       "    </tr>\n",
       "  </tbody>\n",
       "</table>\n",
       "</div>"
      ],
      "text/plain": [
       "      Id  SepalLengthCm  SepalWidthCm  PetalLengthCm  PetalWidthCm  \\\n",
       "50    51            7.0           3.2            4.7           1.4   \n",
       "121  122            5.6           2.8            4.9           2.0   \n",
       "123  124            6.3           2.7            4.9           1.8   \n",
       "32    33            5.2           4.1            1.5           0.1   \n",
       "25    26            5.0           3.0            1.6           0.2   \n",
       "109  110            7.2           3.6            6.1           2.5   \n",
       "7      8            5.0           3.4            1.5           0.2   \n",
       "31    32            5.4           3.4            1.5           0.4   \n",
       "134  135            6.1           2.6            5.6           1.4   \n",
       "114  115            5.8           2.8            5.1           2.4   \n",
       "\n",
       "             Species  \n",
       "50   Iris-versicolor  \n",
       "121   Iris-virginica  \n",
       "123   Iris-virginica  \n",
       "32       Iris-setosa  \n",
       "25       Iris-setosa  \n",
       "109   Iris-virginica  \n",
       "7        Iris-setosa  \n",
       "31       Iris-setosa  \n",
       "134   Iris-virginica  \n",
       "114   Iris-virginica  "
      ]
     },
     "execution_count": 129,
     "metadata": {},
     "output_type": "execute_result"
    }
   ],
   "source": [
    "iris_data.sample(n=10)"
   ]
  },
  {
   "cell_type": "markdown",
   "id": "4f5e5b5d",
   "metadata": {},
   "source": [
    "# # Measure of Dispersion\n",
    "   - Variance\n",
    "   - Standard Deviation."
   ]
  },
  {
   "cell_type": "markdown",
   "id": "c8ef9087",
   "metadata": {},
   "source": [
    "# Variance"
   ]
  },
  {
   "cell_type": "code",
   "execution_count": 130,
   "id": "7b9166c6",
   "metadata": {},
   "outputs": [
    {
     "data": {
      "text/plain": [
       "226.23140495867767"
      ]
     },
     "execution_count": 130,
     "metadata": {},
     "output_type": "execute_result"
    }
   ],
   "source": [
    "#variance\n",
    "np.var(data)"
   ]
  },
  {
   "cell_type": "code",
   "execution_count": 135,
   "id": "98d4b7d7",
   "metadata": {},
   "outputs": [],
   "source": [
    "def var(data):\n",
    "    n=len(data)\n",
    "    mean=sum(data)/n\n",
    "    deviation=[(x-mean)**2 for x in data]\n",
    "    variance=sum(deviation)/(n-1)\n",
    "    return variance\n"
   ]
  },
  {
   "cell_type": "code",
   "execution_count": 136,
   "id": "183ce1fb",
   "metadata": {},
   "outputs": [
    {
     "data": {
      "text/plain": [
       "248.8545454545455"
      ]
     },
     "execution_count": 136,
     "metadata": {},
     "output_type": "execute_result"
    }
   ],
   "source": [
    "var(data)"
   ]
  },
  {
   "cell_type": "code",
   "execution_count": 137,
   "id": "7c563885",
   "metadata": {},
   "outputs": [
    {
     "data": {
      "text/plain": [
       "248.85454545454544"
      ]
     },
     "execution_count": 137,
     "metadata": {},
     "output_type": "execute_result"
    }
   ],
   "source": [
    "import statistics as stat # sample variance\n",
    "stat.variance(data)"
   ]
  },
  {
   "cell_type": "code",
   "execution_count": 138,
   "id": "5068feac",
   "metadata": {},
   "outputs": [
    {
     "data": {
      "text/plain": [
       "226.23140495867767"
      ]
     },
     "execution_count": 138,
     "metadata": {},
     "output_type": "execute_result"
    }
   ],
   "source": [
    "stat.pvariance(data) #  population variance"
   ]
  },
  {
   "cell_type": "markdown",
   "id": "e9fe8350",
   "metadata": {},
   "source": [
    "### Standard deviation"
   ]
  },
  {
   "cell_type": "code",
   "execution_count": 139,
   "id": "dc455e82",
   "metadata": {},
   "outputs": [
    {
     "data": {
      "text/plain": [
       "15.040990823701664"
      ]
     },
     "execution_count": 139,
     "metadata": {},
     "output_type": "execute_result"
    }
   ],
   "source": [
    "np.std(data)"
   ]
  },
  {
   "cell_type": "code",
   "execution_count": 12,
   "id": "81cc24a6",
   "metadata": {},
   "outputs": [
    {
     "data": {
      "text/plain": [
       "15.775124261144361"
      ]
     },
     "execution_count": 12,
     "metadata": {},
     "output_type": "execute_result"
    }
   ],
   "source": [
    "import statistics as stat\n",
    "import math\n",
    "math.sqrt(stat.variance(data) )"
   ]
  },
  {
   "cell_type": "code",
   "execution_count": 1,
   "id": "b04cd117",
   "metadata": {},
   "outputs": [],
   "source": [
    "import seaborn as sns\n",
    "df=sns.load_dataset('tips')\n"
   ]
  },
  {
   "cell_type": "code",
   "execution_count": 2,
   "id": "8215662f",
   "metadata": {},
   "outputs": [
    {
     "data": {
      "text/html": [
       "<div>\n",
       "<style scoped>\n",
       "    .dataframe tbody tr th:only-of-type {\n",
       "        vertical-align: middle;\n",
       "    }\n",
       "\n",
       "    .dataframe tbody tr th {\n",
       "        vertical-align: top;\n",
       "    }\n",
       "\n",
       "    .dataframe thead th {\n",
       "        text-align: right;\n",
       "    }\n",
       "</style>\n",
       "<table border=\"1\" class=\"dataframe\">\n",
       "  <thead>\n",
       "    <tr style=\"text-align: right;\">\n",
       "      <th></th>\n",
       "      <th>total_bill</th>\n",
       "      <th>tip</th>\n",
       "      <th>sex</th>\n",
       "      <th>smoker</th>\n",
       "      <th>day</th>\n",
       "      <th>time</th>\n",
       "      <th>size</th>\n",
       "    </tr>\n",
       "  </thead>\n",
       "  <tbody>\n",
       "    <tr>\n",
       "      <th>0</th>\n",
       "      <td>16.99</td>\n",
       "      <td>1.01</td>\n",
       "      <td>Female</td>\n",
       "      <td>No</td>\n",
       "      <td>Sun</td>\n",
       "      <td>Dinner</td>\n",
       "      <td>2</td>\n",
       "    </tr>\n",
       "    <tr>\n",
       "      <th>1</th>\n",
       "      <td>10.34</td>\n",
       "      <td>1.66</td>\n",
       "      <td>Male</td>\n",
       "      <td>No</td>\n",
       "      <td>Sun</td>\n",
       "      <td>Dinner</td>\n",
       "      <td>3</td>\n",
       "    </tr>\n",
       "    <tr>\n",
       "      <th>2</th>\n",
       "      <td>21.01</td>\n",
       "      <td>3.50</td>\n",
       "      <td>Male</td>\n",
       "      <td>No</td>\n",
       "      <td>Sun</td>\n",
       "      <td>Dinner</td>\n",
       "      <td>3</td>\n",
       "    </tr>\n",
       "    <tr>\n",
       "      <th>3</th>\n",
       "      <td>23.68</td>\n",
       "      <td>3.31</td>\n",
       "      <td>Male</td>\n",
       "      <td>No</td>\n",
       "      <td>Sun</td>\n",
       "      <td>Dinner</td>\n",
       "      <td>2</td>\n",
       "    </tr>\n",
       "    <tr>\n",
       "      <th>4</th>\n",
       "      <td>24.59</td>\n",
       "      <td>3.61</td>\n",
       "      <td>Female</td>\n",
       "      <td>No</td>\n",
       "      <td>Sun</td>\n",
       "      <td>Dinner</td>\n",
       "      <td>4</td>\n",
       "    </tr>\n",
       "    <tr>\n",
       "      <th>...</th>\n",
       "      <td>...</td>\n",
       "      <td>...</td>\n",
       "      <td>...</td>\n",
       "      <td>...</td>\n",
       "      <td>...</td>\n",
       "      <td>...</td>\n",
       "      <td>...</td>\n",
       "    </tr>\n",
       "    <tr>\n",
       "      <th>239</th>\n",
       "      <td>29.03</td>\n",
       "      <td>5.92</td>\n",
       "      <td>Male</td>\n",
       "      <td>No</td>\n",
       "      <td>Sat</td>\n",
       "      <td>Dinner</td>\n",
       "      <td>3</td>\n",
       "    </tr>\n",
       "    <tr>\n",
       "      <th>240</th>\n",
       "      <td>27.18</td>\n",
       "      <td>2.00</td>\n",
       "      <td>Female</td>\n",
       "      <td>Yes</td>\n",
       "      <td>Sat</td>\n",
       "      <td>Dinner</td>\n",
       "      <td>2</td>\n",
       "    </tr>\n",
       "    <tr>\n",
       "      <th>241</th>\n",
       "      <td>22.67</td>\n",
       "      <td>2.00</td>\n",
       "      <td>Male</td>\n",
       "      <td>Yes</td>\n",
       "      <td>Sat</td>\n",
       "      <td>Dinner</td>\n",
       "      <td>2</td>\n",
       "    </tr>\n",
       "    <tr>\n",
       "      <th>242</th>\n",
       "      <td>17.82</td>\n",
       "      <td>1.75</td>\n",
       "      <td>Male</td>\n",
       "      <td>No</td>\n",
       "      <td>Sat</td>\n",
       "      <td>Dinner</td>\n",
       "      <td>2</td>\n",
       "    </tr>\n",
       "    <tr>\n",
       "      <th>243</th>\n",
       "      <td>18.78</td>\n",
       "      <td>3.00</td>\n",
       "      <td>Female</td>\n",
       "      <td>No</td>\n",
       "      <td>Thur</td>\n",
       "      <td>Dinner</td>\n",
       "      <td>2</td>\n",
       "    </tr>\n",
       "  </tbody>\n",
       "</table>\n",
       "<p>244 rows × 7 columns</p>\n",
       "</div>"
      ],
      "text/plain": [
       "     total_bill   tip     sex smoker   day    time  size\n",
       "0         16.99  1.01  Female     No   Sun  Dinner     2\n",
       "1         10.34  1.66    Male     No   Sun  Dinner     3\n",
       "2         21.01  3.50    Male     No   Sun  Dinner     3\n",
       "3         23.68  3.31    Male     No   Sun  Dinner     2\n",
       "4         24.59  3.61  Female     No   Sun  Dinner     4\n",
       "..          ...   ...     ...    ...   ...     ...   ...\n",
       "239       29.03  5.92    Male     No   Sat  Dinner     3\n",
       "240       27.18  2.00  Female    Yes   Sat  Dinner     2\n",
       "241       22.67  2.00    Male    Yes   Sat  Dinner     2\n",
       "242       17.82  1.75    Male     No   Sat  Dinner     2\n",
       "243       18.78  3.00  Female     No  Thur  Dinner     2\n",
       "\n",
       "[244 rows x 7 columns]"
      ]
     },
     "execution_count": 2,
     "metadata": {},
     "output_type": "execute_result"
    }
   ],
   "source": [
    "df"
   ]
  },
  {
   "cell_type": "code",
   "execution_count": 6,
   "id": "116139b4",
   "metadata": {},
   "outputs": [
    {
     "data": {
      "text/html": [
       "<div>\n",
       "<style scoped>\n",
       "    .dataframe tbody tr th:only-of-type {\n",
       "        vertical-align: middle;\n",
       "    }\n",
       "\n",
       "    .dataframe tbody tr th {\n",
       "        vertical-align: top;\n",
       "    }\n",
       "\n",
       "    .dataframe thead th {\n",
       "        text-align: right;\n",
       "    }\n",
       "</style>\n",
       "<table border=\"1\" class=\"dataframe\">\n",
       "  <thead>\n",
       "    <tr style=\"text-align: right;\">\n",
       "      <th></th>\n",
       "      <th>total_bill</th>\n",
       "      <th>tip</th>\n",
       "      <th>sex</th>\n",
       "      <th>smoker</th>\n",
       "      <th>day</th>\n",
       "      <th>time</th>\n",
       "      <th>size</th>\n",
       "    </tr>\n",
       "  </thead>\n",
       "  <tbody>\n",
       "    <tr>\n",
       "      <th>0</th>\n",
       "      <td>16.99</td>\n",
       "      <td>1.01</td>\n",
       "      <td>Female</td>\n",
       "      <td>No</td>\n",
       "      <td>Sun</td>\n",
       "      <td>Dinner</td>\n",
       "      <td>2</td>\n",
       "    </tr>\n",
       "    <tr>\n",
       "      <th>1</th>\n",
       "      <td>10.34</td>\n",
       "      <td>1.66</td>\n",
       "      <td>Male</td>\n",
       "      <td>No</td>\n",
       "      <td>Sun</td>\n",
       "      <td>Dinner</td>\n",
       "      <td>3</td>\n",
       "    </tr>\n",
       "    <tr>\n",
       "      <th>2</th>\n",
       "      <td>21.01</td>\n",
       "      <td>3.50</td>\n",
       "      <td>Male</td>\n",
       "      <td>No</td>\n",
       "      <td>Sun</td>\n",
       "      <td>Dinner</td>\n",
       "      <td>3</td>\n",
       "    </tr>\n",
       "    <tr>\n",
       "      <th>3</th>\n",
       "      <td>23.68</td>\n",
       "      <td>3.31</td>\n",
       "      <td>Male</td>\n",
       "      <td>No</td>\n",
       "      <td>Sun</td>\n",
       "      <td>Dinner</td>\n",
       "      <td>2</td>\n",
       "    </tr>\n",
       "    <tr>\n",
       "      <th>4</th>\n",
       "      <td>24.59</td>\n",
       "      <td>3.61</td>\n",
       "      <td>Female</td>\n",
       "      <td>No</td>\n",
       "      <td>Sun</td>\n",
       "      <td>Dinner</td>\n",
       "      <td>4</td>\n",
       "    </tr>\n",
       "  </tbody>\n",
       "</table>\n",
       "</div>"
      ],
      "text/plain": [
       "   total_bill   tip     sex smoker  day    time  size\n",
       "0       16.99  1.01  Female     No  Sun  Dinner     2\n",
       "1       10.34  1.66    Male     No  Sun  Dinner     3\n",
       "2       21.01  3.50    Male     No  Sun  Dinner     3\n",
       "3       23.68  3.31    Male     No  Sun  Dinner     2\n",
       "4       24.59  3.61  Female     No  Sun  Dinner     4"
      ]
     },
     "execution_count": 6,
     "metadata": {},
     "output_type": "execute_result"
    }
   ],
   "source": [
    "df.head()"
   ]
  },
  {
   "cell_type": "code",
   "execution_count": 7,
   "id": "056d0f5a",
   "metadata": {},
   "outputs": [
    {
     "name": "stdout",
     "output_type": "stream",
     "text": [
      "<class 'pandas.core.frame.DataFrame'>\n",
      "RangeIndex: 244 entries, 0 to 243\n",
      "Data columns (total 7 columns):\n",
      " #   Column      Non-Null Count  Dtype   \n",
      "---  ------      --------------  -----   \n",
      " 0   total_bill  244 non-null    float64 \n",
      " 1   tip         244 non-null    float64 \n",
      " 2   sex         244 non-null    category\n",
      " 3   smoker      244 non-null    category\n",
      " 4   day         244 non-null    category\n",
      " 5   time        244 non-null    category\n",
      " 6   size        244 non-null    int64   \n",
      "dtypes: category(4), float64(2), int64(1)\n",
      "memory usage: 7.4 KB\n"
     ]
    }
   ],
   "source": [
    "df.info()"
   ]
  },
  {
   "cell_type": "code",
   "execution_count": 3,
   "id": "1ec05c15",
   "metadata": {},
   "outputs": [
    {
     "name": "stderr",
     "output_type": "stream",
     "text": [
      "C:\\Users\\V.Dinesh Babu\\AppData\\Local\\Temp\\ipykernel_23172\\1134722465.py:1: FutureWarning: The default value of numeric_only in DataFrame.corr is deprecated. In a future version, it will default to False. Select only valid columns or specify the value of numeric_only to silence this warning.\n",
      "  df.corr()\n"
     ]
    },
    {
     "data": {
      "text/html": [
       "<div>\n",
       "<style scoped>\n",
       "    .dataframe tbody tr th:only-of-type {\n",
       "        vertical-align: middle;\n",
       "    }\n",
       "\n",
       "    .dataframe tbody tr th {\n",
       "        vertical-align: top;\n",
       "    }\n",
       "\n",
       "    .dataframe thead th {\n",
       "        text-align: right;\n",
       "    }\n",
       "</style>\n",
       "<table border=\"1\" class=\"dataframe\">\n",
       "  <thead>\n",
       "    <tr style=\"text-align: right;\">\n",
       "      <th></th>\n",
       "      <th>total_bill</th>\n",
       "      <th>tip</th>\n",
       "      <th>size</th>\n",
       "    </tr>\n",
       "  </thead>\n",
       "  <tbody>\n",
       "    <tr>\n",
       "      <th>total_bill</th>\n",
       "      <td>1.000000</td>\n",
       "      <td>0.675734</td>\n",
       "      <td>0.598315</td>\n",
       "    </tr>\n",
       "    <tr>\n",
       "      <th>tip</th>\n",
       "      <td>0.675734</td>\n",
       "      <td>1.000000</td>\n",
       "      <td>0.489299</td>\n",
       "    </tr>\n",
       "    <tr>\n",
       "      <th>size</th>\n",
       "      <td>0.598315</td>\n",
       "      <td>0.489299</td>\n",
       "      <td>1.000000</td>\n",
       "    </tr>\n",
       "  </tbody>\n",
       "</table>\n",
       "</div>"
      ],
      "text/plain": [
       "            total_bill       tip      size\n",
       "total_bill    1.000000  0.675734  0.598315\n",
       "tip           0.675734  1.000000  0.489299\n",
       "size          0.598315  0.489299  1.000000"
      ]
     },
     "execution_count": 3,
     "metadata": {},
     "output_type": "execute_result"
    }
   ],
   "source": [
    "df.corr()"
   ]
  },
  {
   "cell_type": "code",
   "execution_count": 10,
   "id": "63af64ca",
   "metadata": {},
   "outputs": [
    {
     "data": {
      "text/plain": [
       "<Axes: xlabel='tip', ylabel='size'>"
      ]
     },
     "execution_count": 10,
     "metadata": {},
     "output_type": "execute_result"
    },
    {
     "data": {
      "image/png": "[encoded data removed]",
      "text/plain": [
       "<Figure size 640x480 with 1 Axes>"
      ]
     },
     "metadata": {},
     "output_type": "display_data"
    }
   ],
   "source": [
    "sns.scatterplot(x=df['tip'],y=df['size'])"
   ]
  },
  {
   "cell_type": "code",
   "execution_count": 11,
   "id": "8ce0d57c",
   "metadata": {},
   "outputs": [
    {
     "data": {
      "text/plain": [
       "<Axes: xlabel='tip', ylabel='total_bill'>"
      ]
     },
     "execution_count": 11,
     "metadata": {},
     "output_type": "execute_result"
    },
    {
     "data": {
      "image/png": "[encoded data removed]",
      "text/plain": [
       "<Figure size 640x480 with 1 Axes>"
      ]
     },
     "metadata": {},
     "output_type": "display_data"
    }
   ],
   "source": [
    "sns.scatterplot(x=df['tip'],y=df['total_bill'])"
   ]
  },
  {
   "cell_type": "code",
   "execution_count": 15,
   "id": "4d734dde",
   "metadata": {},
   "outputs": [
    {
     "data": {
      "text/plain": [
       "<Axes: ylabel='Count'>"
      ]
     },
     "execution_count": 15,
     "metadata": {},
     "output_type": "execute_result"
    },
    {
     "data": {
      "image/png": "[encoded data removed]",
      "text/plain": [
       "<Figure size 640x480 with 1 Axes>"
      ]
     },
     "metadata": {},
     "output_type": "display_data"
    }
   ],
   "source": [
    "#pdf\n",
    "sns.histplot(data)"
   ]
  },
  {
   "cell_type": "code",
   "execution_count": 17,
   "id": "35f9b133",
   "metadata": {},
   "outputs": [
    {
     "data": {
      "text/plain": [
       "<Axes: ylabel='Count'>"
      ]
     },
     "execution_count": 17,
     "metadata": {},
     "output_type": "execute_result"
    },
    {
     "data": {
      "image/png": "[encoded data removed]",
      "text/plain": [
       "<Figure size 640x480 with 1 Axes>"
      ]
     },
     "metadata": {},
     "output_type": "display_data"
    }
   ],
   "source": [
    "sns.histplot(data,kde=True)"
   ]
  },
  {
   "cell_type": "code",
   "execution_count": 18,
   "id": "c95c57b9",
   "metadata": {},
   "outputs": [],
   "source": [
    "import pandas as pd\n",
    "iris_data=pd.read_csv(\"Iris.csv\")\n"
   ]
  },
  {
   "cell_type": "code",
   "execution_count": 20,
   "id": "1c5117f9",
   "metadata": {},
   "outputs": [
    {
     "data": {
      "text/html": [
       "<div>\n",
       "<style scoped>\n",
       "    .dataframe tbody tr th:only-of-type {\n",
       "        vertical-align: middle;\n",
       "    }\n",
       "\n",
       "    .dataframe tbody tr th {\n",
       "        vertical-align: top;\n",
       "    }\n",
       "\n",
       "    .dataframe thead th {\n",
       "        text-align: right;\n",
       "    }\n",
       "</style>\n",
       "<table border=\"1\" class=\"dataframe\">\n",
       "  <thead>\n",
       "    <tr style=\"text-align: right;\">\n",
       "      <th></th>\n",
       "      <th>Id</th>\n",
       "      <th>SepalLengthCm</th>\n",
       "      <th>SepalWidthCm</th>\n",
       "      <th>PetalLengthCm</th>\n",
       "      <th>PetalWidthCm</th>\n",
       "      <th>Species</th>\n",
       "    </tr>\n",
       "  </thead>\n",
       "  <tbody>\n",
       "    <tr>\n",
       "      <th>0</th>\n",
       "      <td>1</td>\n",
       "      <td>5.1</td>\n",
       "      <td>3.5</td>\n",
       "      <td>1.4</td>\n",
       "      <td>0.2</td>\n",
       "      <td>Iris-setosa</td>\n",
       "    </tr>\n",
       "    <tr>\n",
       "      <th>1</th>\n",
       "      <td>2</td>\n",
       "      <td>4.9</td>\n",
       "      <td>3.0</td>\n",
       "      <td>1.4</td>\n",
       "      <td>0.2</td>\n",
       "      <td>Iris-setosa</td>\n",
       "    </tr>\n",
       "    <tr>\n",
       "      <th>2</th>\n",
       "      <td>3</td>\n",
       "      <td>4.7</td>\n",
       "      <td>3.2</td>\n",
       "      <td>1.3</td>\n",
       "      <td>0.2</td>\n",
       "      <td>Iris-setosa</td>\n",
       "    </tr>\n",
       "    <tr>\n",
       "      <th>3</th>\n",
       "      <td>4</td>\n",
       "      <td>4.6</td>\n",
       "      <td>3.1</td>\n",
       "      <td>1.5</td>\n",
       "      <td>0.2</td>\n",
       "      <td>Iris-setosa</td>\n",
       "    </tr>\n",
       "    <tr>\n",
       "      <th>4</th>\n",
       "      <td>5</td>\n",
       "      <td>5.0</td>\n",
       "      <td>3.6</td>\n",
       "      <td>1.4</td>\n",
       "      <td>0.2</td>\n",
       "      <td>Iris-setosa</td>\n",
       "    </tr>\n",
       "  </tbody>\n",
       "</table>\n",
       "</div>"
      ],
      "text/plain": [
       "   Id  SepalLengthCm  SepalWidthCm  PetalLengthCm  PetalWidthCm      Species\n",
       "0   1            5.1           3.5            1.4           0.2  Iris-setosa\n",
       "1   2            4.9           3.0            1.4           0.2  Iris-setosa\n",
       "2   3            4.7           3.2            1.3           0.2  Iris-setosa\n",
       "3   4            4.6           3.1            1.5           0.2  Iris-setosa\n",
       "4   5            5.0           3.6            1.4           0.2  Iris-setosa"
      ]
     },
     "execution_count": 20,
     "metadata": {},
     "output_type": "execute_result"
    }
   ],
   "source": [
    "iris_data.head()"
   ]
  },
  {
   "cell_type": "code",
   "execution_count": 22,
   "id": "5bba9a7e",
   "metadata": {},
   "outputs": [
    {
     "data": {
      "text/plain": [
       "<Axes: xlabel='SepalLengthCm', ylabel='Count'>"
      ]
     },
     "execution_count": 22,
     "metadata": {},
     "output_type": "execute_result"
    },
    {
     "data": {
      "image/png": "[encoded data removed]",
      "text/plain": [
       "<Figure size 640x480 with 1 Axes>"
      ]
     },
     "metadata": {},
     "output_type": "display_data"
    }
   ],
   "source": [
    "sns.histplot(iris_data[\"SepalLengthCm\"],kde=True)"
   ]
  },
  {
   "cell_type": "code",
   "execution_count": 23,
   "id": "94369d71",
   "metadata": {},
   "outputs": [
    {
     "data": {
      "text/plain": [
       "<Axes: xlabel='SepalWidthCm', ylabel='Count'>"
      ]
     },
     "execution_count": 23,
     "metadata": {},
     "output_type": "execute_result"
    },
    {
     "data": {
      "image/png": "[encoded data removed]",
      "text/plain": [
       "<Figure size 640x480 with 1 Axes>"
      ]
     },
     "metadata": {},
     "output_type": "display_data"
    }
   ],
   "source": [
    "sns.histplot(iris_data[\"SepalWidthCm\"],kde=True)"
   ]
  },
  {
   "cell_type": "code",
   "execution_count": 24,
   "id": "d1962969",
   "metadata": {},
   "outputs": [
    {
     "data": {
      "text/plain": [
       "[23, 24, 32, 45, 12, 43, 67, 45, 32, 56, 32]"
      ]
     },
     "execution_count": 24,
     "metadata": {},
     "output_type": "execute_result"
    }
   ],
   "source": [
    "data"
   ]
  },
  {
   "cell_type": "code",
   "execution_count": 25,
   "id": "d581f815",
   "metadata": {},
   "outputs": [],
   "source": [
    "dcop3=data.copy()"
   ]
  },
  {
   "cell_type": "code",
   "execution_count": 27,
   "id": "29a55032",
   "metadata": {},
   "outputs": [],
   "source": [
    "dcop3.append(230)"
   ]
  },
  {
   "cell_type": "code",
   "execution_count": 29,
   "id": "8287d8be",
   "metadata": {},
   "outputs": [],
   "source": [
    "dcop3.sort()"
   ]
  },
  {
   "cell_type": "code",
   "execution_count": 30,
   "id": "f985aee9",
   "metadata": {},
   "outputs": [
    {
     "data": {
      "text/plain": [
       "[12, 23, 24, 32, 32, 32, 43, 45, 45, 56, 67, 230]"
      ]
     },
     "execution_count": 30,
     "metadata": {},
     "output_type": "execute_result"
    }
   ],
   "source": [
    "dcop3"
   ]
  },
  {
   "cell_type": "code",
   "execution_count": 31,
   "id": "60edb0d8",
   "metadata": {},
   "outputs": [
    {
     "data": {
      "text/plain": [
       "<Axes: ylabel='Count'>"
      ]
     },
     "execution_count": 31,
     "metadata": {},
     "output_type": "execute_result"
    },
    {
     "data": {
      "image/png": "[encoded data removed]",
      "text/plain": [
       "<Figure size 640x480 with 1 Axes>"
      ]
     },
     "metadata": {},
     "output_type": "display_data"
    }
   ],
   "source": [
    "sns.histplot(dcop3,kde=True)"
   ]
  },
  {
   "cell_type": "code",
   "execution_count": 32,
   "id": "70a87d2c",
   "metadata": {},
   "outputs": [],
   "source": [
    "dcop4=data.copy()"
   ]
  },
  {
   "cell_type": "code",
   "execution_count": 33,
   "id": "dd2880b9",
   "metadata": {},
   "outputs": [
    {
     "data": {
      "text/plain": [
       "[23, 24, 32, 45, 12, 43, 67, 45, 32, 56, 32]"
      ]
     },
     "execution_count": 33,
     "metadata": {},
     "output_type": "execute_result"
    }
   ],
   "source": [
    "dcop4"
   ]
  },
  {
   "cell_type": "code",
   "execution_count": 34,
   "id": "c7c50203",
   "metadata": {},
   "outputs": [],
   "source": [
    "dcop4[0]=-12"
   ]
  },
  {
   "cell_type": "code",
   "execution_count": 36,
   "id": "c5cee479",
   "metadata": {},
   "outputs": [],
   "source": [
    "dcop4[1]=-65"
   ]
  },
  {
   "cell_type": "code",
   "execution_count": 37,
   "id": "177630a4",
   "metadata": {},
   "outputs": [
    {
     "data": {
      "text/plain": [
       "[-12, -65, 32, 45, 12, 43, 67, 45, 32, 56, 32]"
      ]
     },
     "execution_count": 37,
     "metadata": {},
     "output_type": "execute_result"
    }
   ],
   "source": [
    "dcop4"
   ]
  },
  {
   "cell_type": "code",
   "execution_count": 38,
   "id": "3459f432",
   "metadata": {},
   "outputs": [
    {
     "data": {
      "text/plain": [
       "<Axes: ylabel='Count'>"
      ]
     },
     "execution_count": 38,
     "metadata": {},
     "output_type": "execute_result"
    },
    {
     "data": {
      "image/png": "[encoded data removed]",
      "text/plain": [
       "<Figure size 640x480 with 1 Axes>"
      ]
     },
     "metadata": {},
     "output_type": "display_data"
    }
   ],
   "source": [
    "sns.histplot(dcop4,kde=True)"
   ]
  },
  {
   "cell_type": "code",
   "execution_count": 41,
   "id": "804c95e8",
   "metadata": {},
   "outputs": [
    {
     "data": {
      "text/plain": [
       "array([ 5.73446204e-01,  5.68635982e-01,  4.88989689e-01,  5.87954120e-01,\n",
       "        7.05043149e-01,  5.37273132e-01,  7.17515156e-01,  5.59430945e-01,\n",
       "        1.76503259e-01,  4.53298583e-01,  6.58644965e-01,  6.45307502e-01,\n",
       "        7.73392372e-01,  8.00319328e-01,  5.92930271e-01,  5.59299473e-01,\n",
       "        5.52318643e-01,  5.53348476e-01,  7.34676649e-01,  2.28921400e-01,\n",
       "        3.84454861e-01,  8.22679504e-01,  4.81313649e-01,  5.88947723e-01,\n",
       "        8.19881297e-01,  1.82392850e-01,  4.53364111e-01,  6.16804232e-01,\n",
       "        5.20581006e-01,  3.15891636e-01,  5.30259445e-01,  4.04649563e-01,\n",
       "        7.36135960e-01,  7.10660481e-01,  2.05668330e-01,  6.18425732e-01,\n",
       "        7.86055055e-01,  3.37234142e-01,  1.97422256e-01,  8.52193273e-01,\n",
       "        2.77024664e-01,  5.74062744e-01,  4.04762195e-01,  5.15239858e-01,\n",
       "        6.55347973e-01,  5.11175786e-01,  2.43822221e-01,  7.36906283e-01,\n",
       "        5.18335322e-01,  3.19253161e-01,  3.68306776e-01,  3.88422422e-01,\n",
       "        7.92082951e-01,  5.43590226e-01,  5.05318462e-01,  1.99835775e-01,\n",
       "        7.70303780e-01,  7.78370495e-01,  3.64255960e-01,  2.76716729e-01,\n",
       "        3.11762450e-01,  3.29518597e-01,  9.42522543e-01,  7.05250074e-01,\n",
       "        7.32727924e-01,  2.81228255e-01,  3.79406116e-01,  6.73577484e-01,\n",
       "        3.63629571e-01,  6.05246796e-01,  7.20986769e-01,  4.83555477e-01,\n",
       "        7.97372973e-01,  5.06602242e-01,  1.89210777e-01,  3.13945895e-01,\n",
       "        5.99752814e-01,  3.42879344e-01,  8.25370168e-01,  7.97201571e-01,\n",
       "        4.83671409e-01,  5.84912155e-01,  6.42230393e-01,  3.71641396e-01,\n",
       "        2.90891785e-01,  5.61803354e-01,  2.14989539e-01,  8.02920613e-01,\n",
       "        1.21754102e-01,  2.93187792e-01,  3.65621047e-01,  6.03440840e-01,\n",
       "        5.47523157e-01,  2.46447683e-01,  4.68829914e-01,  6.90973537e-01,\n",
       "        5.80573873e-01,  3.50400475e-01,  4.84683881e-01,  3.11707218e-01,\n",
       "        3.33371041e-01,  7.53215965e-01,  4.12576797e-01,  7.33778159e-01,\n",
       "        5.99382840e-01,  2.86583888e-01,  3.81109585e-01,  4.60650818e-01,\n",
       "        5.13882368e-01,  7.72649652e-02,  1.94380532e-01,  5.02334917e-01,\n",
       "        4.22784747e-01,  6.75291354e-01, -5.23288844e-02,  4.22971002e-01,\n",
       "        2.92641068e-01,  5.63108538e-01,  6.41409200e-01,  3.84716449e-01,\n",
       "        4.83267712e-01,  2.56303320e-01,  4.91590025e-01,  3.52275259e-01,\n",
       "        2.65229690e-01,  5.03575339e-01,  5.98044461e-01,  7.42857541e-01,\n",
       "        5.27815352e-01,  4.29237900e-01,  7.01842396e-01,  5.25240500e-01,\n",
       "        6.14169710e-01,  4.67596443e-01,  6.46233351e-01,  5.46382630e-02,\n",
       "        3.07655238e-01,  3.15146988e-01,  5.66627354e-01,  6.52486584e-01,\n",
       "        5.28235348e-01,  5.97721058e-01,  5.16879987e-01,  6.78413876e-01,\n",
       "        1.73242404e-02,  3.12282768e-01,  3.56209545e-01,  4.66398072e-01,\n",
       "        7.39656619e-01,  6.19215732e-01,  3.29319073e-01,  8.93033387e-01,\n",
       "        6.21398309e-01,  6.14889578e-01,  2.32166294e-01,  8.52451118e-01,\n",
       "        7.08125839e-01,  4.55280993e-01,  2.33697396e-01,  5.44621463e-01,\n",
       "        4.88467745e-01,  5.67366296e-01,  4.27322469e-01,  8.31326611e-01,\n",
       "        3.22994500e-01,  3.99731669e-01,  5.97556508e-01,  7.44128871e-01,\n",
       "        4.53330154e-01,  7.79616076e-01,  1.02481943e+00,  7.35124378e-01,\n",
       "        6.97449972e-01,  4.87223420e-01,  5.38881269e-01,  6.67372659e-01,\n",
       "        3.71086556e-01,  4.98338025e-01,  2.57280286e-01,  9.21888697e-01,\n",
       "        4.59601253e-01,  8.08928777e-02,  6.15022544e-01,  2.04424032e-01,\n",
       "        6.32808884e-01,  3.12214452e-01,  3.00338797e-01,  8.10744372e-02,\n",
       "        5.05938035e-01,  4.20663239e-01,  4.78427154e-01,  3.71310830e-01,\n",
       "        4.16226774e-01,  7.73666450e-01,  5.18155710e-01,  2.59346331e-01,\n",
       "        8.83029742e-02,  6.66099807e-01,  5.29302967e-01,  2.20313110e-01,\n",
       "        3.15105542e-01,  7.35159955e-01,  7.50031362e-01,  6.08258138e-01,\n",
       "        1.49887317e-01,  7.21529064e-01,  2.39342193e-01,  7.55495109e-01,\n",
       "        3.57006258e-01,  5.65841474e-01,  4.31565422e-01,  9.04070340e-01,\n",
       "        5.30896870e-01,  6.18231342e-01,  4.05756675e-01,  4.42158049e-01,\n",
       "        6.10900479e-01,  5.46484666e-01,  4.65809638e-01,  1.53008357e-01,\n",
       "        2.85332512e-01,  4.56340837e-01,  5.73511136e-01,  6.37688184e-01,\n",
       "        6.22952377e-01,  2.72548161e-01,  7.31954009e-01,  4.49962966e-01,\n",
       "        4.58848012e-01,  7.36755209e-01,  5.26543788e-01,  9.64506476e-01,\n",
       "        5.27396331e-01,  4.40807386e-01,  6.48720367e-01,  4.42943117e-01,\n",
       "        5.53422512e-01,  5.26504365e-01,  7.34788218e-01,  4.86160001e-01,\n",
       "        6.14990336e-01,  1.24041649e-01,  2.91339121e-01,  7.15513934e-01,\n",
       "        2.99331966e-02,  6.03034564e-01,  9.01903941e-01,  6.12574190e-01,\n",
       "        7.93973397e-01,  7.43326911e-01,  3.47628256e-01,  6.29023959e-01,\n",
       "        6.07302962e-01,  8.80471397e-01,  6.30769721e-01,  5.16419314e-01,\n",
       "        5.58935484e-01,  4.95166945e-01,  2.59505663e-01,  8.64986715e-01,\n",
       "        5.91539439e-01,  1.86317285e-01,  1.80125744e-01,  8.95653885e-01,\n",
       "        6.14483164e-01,  1.65835434e-01,  8.22636159e-01,  4.02641843e-01,\n",
       "        5.09987214e-01,  4.82427754e-01,  8.01987770e-01,  4.33221688e-01,\n",
       "        6.20809398e-01,  3.09133493e-01,  4.24227131e-01,  7.71252532e-01,\n",
       "        3.02857596e-01,  5.55732890e-01,  6.93578120e-01,  3.37477921e-01,\n",
       "        6.55173677e-02,  1.03539729e+00,  2.78982245e-01,  4.37903531e-01,\n",
       "        2.99036903e-01,  5.17310033e-01,  5.93171363e-01,  2.10755864e-01,\n",
       "        5.84585601e-01,  6.35261465e-01,  3.43441083e-01,  3.59688221e-01,\n",
       "        1.88776027e-01,  3.13815430e-01,  5.64128179e-01,  5.97767536e-01,\n",
       "        4.45110557e-01,  4.87815345e-01,  3.97707155e-01,  2.63147138e-02,\n",
       "        7.29045533e-01,  6.85127976e-01,  4.27761952e-01, -1.55393080e-02,\n",
       "        2.86143754e-01,  3.74239698e-01,  4.48376038e-01,  4.37486059e-01,\n",
       "        6.03296431e-01,  6.72454721e-01,  4.62142054e-01,  4.03419244e-01,\n",
       "        3.70925639e-01,  7.71174872e-01,  8.96464118e-01,  4.74428587e-01,\n",
       "        7.18231560e-01,  3.42601068e-01,  5.49509735e-01,  5.61430821e-01,\n",
       "        2.17515706e-01,  7.33783013e-01,  7.23343272e-01,  6.17036749e-01,\n",
       "        4.87637784e-01,  5.51634746e-01,  3.61253971e-01,  6.00797465e-01,\n",
       "        4.89497035e-01,  2.93005220e-01,  3.75043543e-01,  5.90416104e-01,\n",
       "        6.64041575e-01,  3.64683584e-02,  7.15318954e-01,  1.86923317e-01,\n",
       "        8.08987762e-01,  8.08294418e-01,  5.61066515e-01,  5.68242845e-01,\n",
       "        3.46305737e-01,  5.95522882e-01,  5.37552525e-01,  8.16204642e-01,\n",
       "        3.28930349e-01,  4.21137945e-01,  6.86660071e-01,  7.15673184e-01,\n",
       "        3.61250657e-01,  3.96946200e-01,  5.75946055e-01,  7.18318803e-01,\n",
       "        4.04446263e-01,  7.86298052e-01,  7.54663596e-01,  3.50376626e-01,\n",
       "        4.61683818e-01,  4.33977599e-01,  4.83700719e-01,  4.84661135e-01,\n",
       "        1.63690745e-01,  4.98515088e-01,  1.84649542e-01,  5.98099750e-01,\n",
       "        6.75480580e-01,  7.64390871e-02,  4.91546897e-01,  6.58761770e-01,\n",
       "        2.21811768e-01,  7.48078911e-01,  4.05011517e-01,  2.58450211e-01,\n",
       "        1.40511876e-01,  3.33892775e-01,  3.95462643e-01,  6.06365020e-01,\n",
       "        9.24195059e-01,  7.27691453e-01,  6.16951649e-01,  7.28090001e-02,\n",
       "        7.83629059e-01,  3.84970533e-01,  6.80211483e-01,  6.11315957e-01,\n",
       "        4.51557361e-01,  4.30352959e-01,  4.07960822e-01,  2.71455702e-01,\n",
       "        4.14939309e-01,  4.49505521e-02,  5.24952869e-01,  4.70235124e-01,\n",
       "        2.12321094e-02,  1.45210935e-01,  5.91763529e-01,  3.93675870e-02,\n",
       "        8.74797343e-01,  4.33741083e-01,  5.15337834e-01,  6.79321292e-01,\n",
       "        2.26340161e-01,  6.50150019e-01,  4.07276657e-01,  1.31493493e-01,\n",
       "        6.05377376e-01,  6.67289953e-01,  3.10705829e-01,  5.57575152e-01,\n",
       "        5.01244544e-01,  5.16621398e-01,  4.53199905e-01,  3.04291908e-01,\n",
       "        1.68791926e-01,  3.54147607e-01,  9.72849403e-03,  3.42108669e-01,\n",
       "        4.59315666e-01,  4.61411000e-01,  6.61012579e-01,  6.29225828e-01,\n",
       "        4.05678522e-01,  5.69673418e-01,  4.20927497e-01,  2.44553174e-01,\n",
       "        8.15953229e-01,  5.63796347e-01,  6.20175067e-01,  3.56370651e-01,\n",
       "        5.43987226e-02,  2.13580392e-01,  4.93819299e-01,  6.06106954e-01,\n",
       "        7.09088265e-01,  3.76737467e-01,  6.83189633e-01,  5.90763939e-01,\n",
       "        6.12395804e-01,  3.92590512e-01,  4.42477056e-01,  6.75750755e-01,\n",
       "        2.70061279e-01,  4.27838271e-01,  5.99143902e-01,  4.29530842e-01,\n",
       "        7.56602422e-01,  4.05677105e-01,  5.81202064e-01,  5.68880492e-01,\n",
       "        8.92995557e-01,  9.00424604e-01,  5.28257289e-01,  6.99573852e-01,\n",
       "        5.77113641e-01,  5.79163828e-01,  4.68351413e-01,  1.06057018e+00,\n",
       "        3.79674069e-01,  6.62615535e-01,  6.46240455e-01,  7.63366928e-01,\n",
       "        1.07819737e+00,  2.51151863e-01,  7.88513374e-01,  9.23592603e-01,\n",
       "        5.19246137e-01,  6.08092026e-01,  5.73023139e-01,  5.31056622e-01,\n",
       "        5.28390689e-01,  5.05510010e-01,  1.07546500e-01,  3.75316426e-01,\n",
       "        5.59472072e-01,  7.27312506e-01,  6.43490240e-01,  5.58402141e-01,\n",
       "        6.67816026e-01,  3.88259366e-01,  5.31764001e-01,  3.36204804e-01,\n",
       "        5.67377724e-01,  1.82309676e-01,  8.88238789e-01,  3.21371600e-01,\n",
       "        6.67320969e-01,  8.20477396e-01,  1.13230229e-01,  4.48746402e-01,\n",
       "        4.96764773e-01,  5.17280849e-01,  3.76845949e-01,  5.55574418e-01,\n",
       "        3.82128118e-01,  3.97470479e-01,  2.75204649e-01,  5.74093616e-01,\n",
       "        3.60470915e-01,  3.61244551e-01,  8.50028057e-01,  5.69586455e-01,\n",
       "        7.74460963e-01,  5.35961148e-01,  5.55792425e-01,  7.15329656e-01,\n",
       "        6.83259174e-01,  4.80873298e-01,  7.03108827e-01,  5.74883593e-01,\n",
       "        6.40593494e-01,  7.20205903e-01,  5.49842797e-01,  3.71010382e-01,\n",
       "        5.67526685e-01,  2.20087662e-01,  6.98948055e-01,  3.23427588e-01,\n",
       "        7.53839540e-01,  5.64184137e-01,  6.53845602e-01,  2.05460070e-01,\n",
       "        7.14224499e-01,  7.13984151e-01,  4.14066889e-01,  6.48962625e-01,\n",
       "        5.74526347e-01,  5.24652051e-01, -1.14754096e-01,  6.83432927e-01,\n",
       "        4.27461512e-01,  5.65384355e-01,  1.02488784e+00,  2.78417442e-01,\n",
       "        1.38450994e-01,  2.11409537e-01,  4.87691988e-01,  3.28732041e-01,\n",
       "        9.17170807e-01,  5.20447007e-01,  6.45610530e-01,  2.62475981e-01,\n",
       "        4.25600446e-01,  2.96369458e-01,  7.64028940e-01,  2.79831803e-01,\n",
       "        2.43200074e-01,  5.16662610e-02,  6.56417617e-01,  6.90402329e-01,\n",
       "        5.04693682e-01,  3.15313275e-01,  2.84111832e-01,  3.83436757e-02,\n",
       "        5.53932961e-01,  4.59526912e-01,  5.59316708e-01,  5.87055077e-01,\n",
       "        3.40295117e-01,  8.10767544e-01,  7.30076119e-01,  4.49113629e-01,\n",
       "        1.40276171e-01,  8.83292493e-01,  1.02824433e+00,  5.70830793e-01,\n",
       "        5.16124046e-01,  5.71095728e-01,  5.23666463e-01,  4.48202915e-01,\n",
       "        5.67897993e-01,  3.25108626e-01,  1.69041887e-01,  7.62057232e-01,\n",
       "        3.30414867e-01,  3.22317055e-01,  5.21938637e-01,  2.22205198e-01,\n",
       "        5.63394240e-01,  5.48749210e-01,  4.64580133e-01,  6.25397035e-01,\n",
       "       -1.85470105e-01,  4.11821232e-01,  4.07184093e-01,  3.72626977e-01,\n",
       "        1.47656515e-01,  4.02327517e-01,  6.30010659e-01,  7.00986831e-01,\n",
       "        2.84415514e-01,  6.45948492e-01,  6.34501583e-01,  5.40333692e-01,\n",
       "        2.29085736e-01,  5.41451219e-01,  8.38455642e-01,  9.81605875e-01,\n",
       "        4.09778266e-01,  5.55857650e-01,  3.49049500e-01,  4.55143880e-01,\n",
       "        5.36566457e-01,  4.21889955e-01,  2.17597595e-01,  4.80911501e-01,\n",
       "        6.57548813e-01,  1.76711853e-01,  4.19568137e-01,  5.60893650e-01,\n",
       "        5.89834665e-01,  5.02155064e-01,  4.40599745e-01,  3.31022463e-01,\n",
       "        7.16412108e-01,  5.54115925e-01,  4.68594354e-01,  7.63984120e-01,\n",
       "        9.59876971e-01,  1.00581870e-01,  2.42905415e-01,  5.77126723e-01,\n",
       "        7.32726699e-01,  6.08813424e-01,  2.17120675e-01,  2.30671120e-01,\n",
       "        3.67007915e-01,  6.01152144e-01,  6.57933752e-01,  6.16716193e-01,\n",
       "        5.68653483e-01,  5.85738871e-01,  4.75779002e-01, -4.30373740e-02,\n",
       "        3.87199377e-01,  2.01789286e-01,  5.49524717e-01,  7.81412902e-01,\n",
       "        3.10638046e-01,  7.13065616e-01,  8.57450894e-01,  3.30663951e-01,\n",
       "        7.30162691e-01,  4.63870948e-01,  5.14573822e-01,  8.99945574e-01,\n",
       "        3.79050113e-02,  2.08641229e-01,  6.40479217e-01,  8.63411462e-01,\n",
       "        1.42822288e-01,  6.26112405e-01,  5.26274705e-01,  4.21603705e-01,\n",
       "        5.05540481e-01,  1.66518103e-01,  4.37581605e-01,  7.19314076e-01,\n",
       "        2.72124992e-01,  4.94708425e-01,  8.28871807e-01,  5.42017854e-01,\n",
       "        8.24268820e-01, -5.52268344e-03,  5.52885946e-01,  3.95293094e-01,\n",
       "        4.58723662e-01,  6.96069712e-01,  4.32040907e-01,  4.54942658e-01,\n",
       "        4.46466646e-01,  7.50660791e-01,  4.25084787e-01,  5.54053629e-01,\n",
       "        4.53850713e-01,  2.78572974e-01,  6.44744582e-01,  3.52471818e-01,\n",
       "        7.54144511e-01,  2.97041050e-01,  4.82256986e-01,  7.71170382e-01,\n",
       "        6.86303956e-01,  3.79248003e-01,  3.82518329e-01,  2.94447076e-01,\n",
       "        6.53104208e-01,  4.46265615e-01,  5.00554422e-01,  3.00151528e-01,\n",
       "        5.10896089e-01,  9.52305990e-02,  4.05103546e-01,  2.64116283e-01,\n",
       "        7.15234709e-01,  2.38548632e-01,  4.92765804e-01,  6.43121132e-01,\n",
       "        2.91339538e-01,  7.01657112e-01,  7.96918309e-01,  4.74348881e-01,\n",
       "        8.41577651e-01,  6.58308991e-01,  3.14086433e-01,  3.36386338e-01,\n",
       "        1.93396936e-01,  4.27890678e-01,  6.44904201e-01,  5.94197367e-01,\n",
       "        6.21661017e-01,  4.57162376e-01,  5.03122283e-01,  3.51870302e-01,\n",
       "        1.23866266e-01,  1.86259414e-01,  3.25435721e-01,  7.59280526e-01,\n",
       "        7.07546772e-01,  1.17805491e+00,  3.69468845e-01,  3.62571662e-01,\n",
       "        2.66795556e-01,  5.23213798e-01,  2.52454574e-01,  2.41399450e-01,\n",
       "        4.01603356e-01,  8.25104643e-02,  2.41853080e-01,  5.93649604e-01,\n",
       "        5.67490783e-01,  3.74556677e-01,  4.81282563e-01,  6.05236569e-01,\n",
       "        6.38825376e-01,  4.60094838e-01,  1.57041228e-01,  6.55433466e-01,\n",
       "        3.95073744e-01,  6.82638844e-01,  4.64438028e-01,  8.52195806e-01,\n",
       "        5.90573811e-01,  5.52017577e-01,  6.60523748e-01,  8.01495220e-01,\n",
       "        3.52974167e-01,  5.59921559e-01,  6.19344293e-01,  4.46518724e-01,\n",
       "        7.29354036e-01,  3.87134368e-01,  5.25661138e-01,  3.87820620e-01,\n",
       "        8.31276460e-01,  5.40612186e-01,  4.21371794e-01,  5.31189247e-01,\n",
       "        3.34234598e-01,  1.97396546e-01,  9.55159868e-02, -9.26715252e-02,\n",
       "        3.27097999e-01,  7.57005306e-01,  7.50423525e-01,  5.23871967e-01,\n",
       "        3.17301510e-01,  6.27101170e-01,  2.63640615e-01,  3.70823281e-01,\n",
       "        3.05400572e-01,  7.58503588e-01,  2.08203090e-01,  3.02519694e-01,\n",
       "        6.91478959e-02,  6.84302300e-01,  5.71768254e-01,  2.59456622e-01,\n",
       "        3.90797788e-01,  3.02734228e-01,  4.62354819e-01,  7.09922875e-01,\n",
       "        3.98684814e-01,  3.86376988e-01,  5.58735664e-01,  1.65364236e-01,\n",
       "        2.89759177e-01,  2.84071917e-01,  6.02639525e-01,  6.35164259e-01,\n",
       "        7.94570685e-01,  5.33031020e-01,  3.78561268e-01,  4.96353920e-01,\n",
       "        4.63692836e-01,  5.86115897e-01,  2.46766168e-01,  6.31462685e-01,\n",
       "        2.25037960e-01,  6.06773273e-01,  4.69327659e-01,  7.14893756e-01,\n",
       "        5.56981212e-01,  5.01541305e-01,  3.60628776e-01,  4.97549442e-01,\n",
       "        7.11036344e-01,  5.37616257e-01,  9.09900428e-01,  3.61550285e-01,\n",
       "        4.08551557e-01,  7.04194531e-01,  6.72702106e-01,  4.46500193e-01,\n",
       "        6.66287676e-01,  2.67920734e-01,  6.68281972e-01,  5.30393797e-01,\n",
       "        5.46092551e-01,  9.20762969e-01,  3.71224213e-01,  3.64050705e-01,\n",
       "        3.06139748e-01,  4.70076355e-01,  5.40047458e-01,  1.90874697e-01,\n",
       "        5.66605317e-01,  1.18207318e-01,  7.17333259e-01,  4.60273127e-01,\n",
       "        7.76041830e-01,  6.18117680e-01,  5.40531040e-01,  4.40140306e-01,\n",
       "        5.99501752e-01,  6.13150153e-01,  5.63592992e-01,  3.27363817e-01,\n",
       "        5.69874213e-01,  6.66038063e-01,  5.13714665e-01,  1.01803341e+00,\n",
       "        4.74135550e-01,  9.15615395e-01,  4.40930998e-01,  5.75227143e-01,\n",
       "        5.06328567e-01,  6.35216511e-01,  2.34993862e-01,  3.24890519e-01,\n",
       "        1.55395313e-01,  4.18733806e-01,  4.01880663e-01,  5.79016508e-01,\n",
       "        4.85399606e-01,  7.25811001e-01,  4.21920755e-01,  4.74473417e-01,\n",
       "        3.56568661e-01,  4.96102577e-01,  5.46939894e-01,  6.46049933e-01,\n",
       "        4.08280380e-01, -1.93553767e-04,  5.38182993e-01,  6.91622941e-01,\n",
       "        1.72859590e-01,  6.53647851e-01,  3.42514689e-01,  3.77381063e-01,\n",
       "        7.36192782e-01,  3.62106915e-01,  1.21394687e-01,  7.92585036e-01,\n",
       "        5.05180347e-01,  7.61939159e-01,  2.70931402e-01,  3.31008748e-01,\n",
       "        2.08072885e-01,  5.31721907e-01,  3.65239930e-01,  5.93954240e-01,\n",
       "        4.48642170e-01,  5.84747725e-01,  4.70155136e-01,  5.03600157e-02,\n",
       "        8.70048537e-01,  4.08725972e-01,  4.82297109e-01,  6.06471695e-01,\n",
       "        7.13698489e-01,  3.65827603e-01,  4.76159879e-01,  7.01267839e-01,\n",
       "        4.79097144e-01,  3.51057146e-01,  3.38334781e-01,  5.77936034e-01,\n",
       "        3.37049528e-01,  5.22569398e-01,  2.78653804e-01,  3.00362445e-01,\n",
       "        1.45369084e-01,  8.85389743e-01,  4.52068615e-01,  3.31879304e-01,\n",
       "        5.97833328e-01,  2.05262759e-01,  6.31023210e-01,  3.15896282e-01,\n",
       "        4.02758371e-01,  4.20228273e-01,  4.20008279e-01,  5.71385874e-03,\n",
       "        6.16555594e-01,  4.43704388e-01,  4.35478233e-01,  6.57744938e-01,\n",
       "        3.97125975e-01,  7.08154876e-01,  2.54484014e-01,  4.54992439e-01,\n",
       "        5.01984379e-01,  5.05538934e-01,  5.38517628e-01,  3.65012847e-01,\n",
       "        6.99479380e-01,  8.76238597e-02,  4.97507464e-01,  5.56424094e-01,\n",
       "        1.80640491e-01,  3.42173623e-01,  4.58425419e-01,  7.30299873e-01,\n",
       "        5.33731340e-01,  5.21726095e-01,  1.49294577e-01,  8.41867299e-01,\n",
       "        4.81456042e-01,  5.32319253e-01,  6.77540674e-01,  3.89637672e-01,\n",
       "        6.42430421e-01,  7.98695734e-01,  4.30900891e-01,  2.98398945e-01,\n",
       "        8.33934328e-01,  5.32746199e-01,  4.50259282e-01,  4.59283295e-01,\n",
       "        1.51220718e-01,  1.06813378e-01,  4.83475269e-01,  5.80034201e-01,\n",
       "        3.23658492e-01,  3.19772095e-01,  1.06692906e+00,  9.51780892e-01,\n",
       "        7.73588452e-01,  3.63624940e-02,  6.75964489e-01,  3.90450119e-01,\n",
       "        8.21838092e-01,  3.71785046e-01,  6.34558009e-01,  3.14982378e-01,\n",
       "        6.95644046e-01,  7.62817098e-01,  3.33354186e-01,  5.78108241e-01,\n",
       "        3.41433594e-01,  6.95487083e-01,  5.28599579e-01,  5.90618671e-01,\n",
       "        4.69631611e-01,  4.07340239e-01,  4.02759504e-01,  6.99322776e-01,\n",
       "        1.05857390e+00,  2.80628035e-02,  4.53739130e-01,  4.22886716e-01,\n",
       "        5.08079697e-01,  5.52275881e-01,  4.37870413e-01,  4.25591379e-01,\n",
       "        1.66075933e-01,  3.73706378e-01,  4.92602532e-01,  2.59309624e-01,\n",
       "        4.31665171e-01,  5.29390547e-01,  5.20510658e-01,  5.06860392e-01,\n",
       "        2.62824192e-01,  2.16507183e-01,  2.46910389e-01,  2.97924112e-01,\n",
       "        6.08032088e-01,  1.43061038e-01,  4.02250046e-01,  1.18221666e-01])"
      ]
     },
     "execution_count": 41,
     "metadata": {},
     "output_type": "execute_result"
    }
   ],
   "source": [
    "import numpy as np\n",
    "np.random.normal(0.5,0.2,1000)"
   ]
  },
  {
   "cell_type": "code",
   "execution_count": 45,
   "id": "22b1bcb1",
   "metadata": {},
   "outputs": [],
   "source": [
    "gaussian=np.random.normal(0.5,0.2,1000)"
   ]
  },
  {
   "cell_type": "code",
   "execution_count": 46,
   "id": "8fb0621c",
   "metadata": {},
   "outputs": [
    {
     "data": {
      "text/plain": [
       "<Axes: ylabel='Count'>"
      ]
     },
     "execution_count": 46,
     "metadata": {},
     "output_type": "execute_result"
    },
    {
     "data": {
      "image/png": "[encoded data removed]",
      "text/plain": [
       "<Figure size 640x480 with 1 Axes>"
      ]
     },
     "metadata": {},
     "output_type": "display_data"
    }
   ],
   "source": [
    "sns.histplot(gaussian,kde=True)  # NORMAL / GAUSSIAN DISTRIBUTION"
   ]
  },
  {
   "cell_type": "code",
   "execution_count": 48,
   "id": "b10a0c4e",
   "metadata": {},
   "outputs": [],
   "source": [
    "mu,sigma=3.0,1.0\n",
    "log=np.random.lognormal(mu,sigma,1000)"
   ]
  },
  {
   "cell_type": "code",
   "execution_count": 49,
   "id": "cb0107c5",
   "metadata": {},
   "outputs": [
    {
     "data": {
      "text/plain": [
       "array([ 10.58413891,  10.19586626,   2.65993924,  20.93287494,\n",
       "        81.8318413 ,  23.96553369,  43.6645512 ,  10.26415959,\n",
       "        32.74024188,  12.93521573,  66.94962505,  12.20896686,\n",
       "        28.54767216,   6.89624325,  14.85516653,  43.26829948,\n",
       "         7.33829571, 139.22831412,  61.05923386,  10.26853173,\n",
       "        10.3646984 ,  10.9131059 ,  15.44926996,  76.62087395,\n",
       "         7.7681168 ,  45.70661636,  32.84765572,  20.58468122,\n",
       "        72.80623922,  18.8320575 ,  21.02534831,  38.39468228,\n",
       "        73.28710684,  26.10737691,  12.76068168,   7.7236916 ,\n",
       "         8.27496637,  46.26377267,  28.67963384, 128.72394404,\n",
       "        50.52321451,  36.70312522,   0.96651527,  46.13265235,\n",
       "        14.39999196,  12.74053168,  91.78206999,  38.39412219,\n",
       "        40.76401284,  23.86826953,   7.93058277,  10.6700446 ,\n",
       "       260.04846457,   2.25289957,  62.34752508,   5.60746766,\n",
       "         8.90216318,  27.23716198,  32.51582317,  25.59802357,\n",
       "        18.38038249,   4.67656538,   8.40377727,   9.43593257,\n",
       "        14.01603058,  17.24802781,  19.29976314,  11.53323188,\n",
       "        17.58859218,  43.46178815,  15.1206599 ,  29.33576866,\n",
       "         6.8008329 ,  78.16922307,  48.37399669,  36.88536156,\n",
       "        22.33466136,   5.24832653,   9.51120473,  12.55267619,\n",
       "        12.93584583,   4.90771749,  88.92580353,  11.42330423,\n",
       "        20.05591823,  69.12314312,  21.95037773,  15.87742481,\n",
       "         7.79688193,   9.2321791 ,   4.62304251,  18.1154693 ,\n",
       "        13.34906867,  16.7516555 ,  16.38222097,  11.66104864,\n",
       "        19.83035313,  38.84662081,  60.8160506 ,  11.46313195,\n",
       "        12.53895277, 110.03151669,  35.58440529,  74.79388722,\n",
       "        11.95491988, 102.14281653,  64.11680362,  12.63411758,\n",
       "        73.59804027,  16.30113836,  11.00692935,   6.15576233,\n",
       "        23.62432851,  40.35157175,  22.95057535,  20.57381905,\n",
       "         5.56622784,  44.25403462,  56.84349273,  18.24087492,\n",
       "        12.99929912,  19.65072242,  38.67046759,   9.58075274,\n",
       "        13.98620443,  35.65670577,   9.64245048,   6.35921428,\n",
       "        12.91517705,  62.02274717,   7.49132787, 134.42104968,\n",
       "        46.00863257,  30.27333956,  34.23310414,  69.69624851,\n",
       "        29.95441707,  72.88288126,  86.16896021,  17.24950289,\n",
       "         9.18995206,  27.76209074,  32.03043555,   9.74000813,\n",
       "         4.86488422,  52.29887636,   7.39662787,  14.63370924,\n",
       "        13.45238375, 110.67490531,  38.01116431,  18.4159236 ,\n",
       "         5.46169077,  55.22171294,  11.93808547,   5.90659415,\n",
       "         3.06016417, 115.27643189,  11.68458408,   9.41458828,\n",
       "        18.43695153,  20.23744758, 236.20065842,  14.32565621,\n",
       "        19.11030007,  50.83497854,  19.31321856,  20.08773377,\n",
       "        79.21330849,  32.62862152,  58.18755226,  28.80586273,\n",
       "        27.28548102,  39.79453712,  78.32078341,  33.46515038,\n",
       "        68.62035264,  15.95796539,  13.82347354,  45.88499949,\n",
       "         9.89246315,   3.23868128,  23.29965233,  18.89609054,\n",
       "        14.64292203,  18.27286814,  20.17742312,   7.16856984,\n",
       "        22.70786661,   4.19758156,   6.82361217,   9.50398203,\n",
       "        33.88496327,  53.00375319,  16.49413324,  50.61094256,\n",
       "        25.78770424,  12.53306836,  16.04357315,  19.80207685,\n",
       "        85.15509772,  24.72472417,  44.47401846,  22.29392482,\n",
       "        20.01118992,  58.35615476, 147.28538856,  44.65897139,\n",
       "        15.96684049,  38.4830849 ,   6.19945714,  11.28443642,\n",
       "        42.11238055,  14.36529167,   3.53595247,  17.50327356,\n",
       "        69.20323891,  35.74855815,  56.36866672,  26.962378  ,\n",
       "        17.47512272,  30.14196507,  11.72827381,  28.34694888,\n",
       "        31.07736816,  29.80120754,  12.89463286,  32.89695003,\n",
       "         9.90868597,  29.73629475,   9.94543228,  29.28344393,\n",
       "        35.27000923,   4.44708528,  11.26617858,  61.43457163,\n",
       "        50.74141855,   9.23684563,  30.46905266,  24.50089833,\n",
       "        67.58704265,   2.84931357,  23.85449174, 113.49080031,\n",
       "         3.09574487,  14.16735222,  13.93766307,  14.23235465,\n",
       "         9.53098022,   2.34562991,  70.87764759,   7.53197416,\n",
       "        65.21583137,  43.49220411,  16.9261626 ,   5.11282618,\n",
       "        41.35849217,   3.85764155,  10.08845243,  25.77071754,\n",
       "        40.80783859,   4.01903886,  47.11344953,  18.97166446,\n",
       "       137.94238057,  13.47644486,  10.13195578,  17.83652781,\n",
       "        19.28181021,  55.10644131,  22.11027964,  10.57687533,\n",
       "         3.25540867,   4.07275416,   3.47545103,  36.63640123,\n",
       "         8.63603623,   5.15852504,  10.82447221,  14.60050655,\n",
       "         3.9839754 ,   6.88715077,  16.59262687,  10.66913645,\n",
       "        31.60837318,  13.76946757,   6.67470635,  57.72678798,\n",
       "        32.07079564,  12.12670423, 144.46298791,  14.45689449,\n",
       "        24.7822592 ,  11.76204255,   3.64088955,  41.7212416 ,\n",
       "        85.13490212,  12.51817542,  14.81940857,  34.64473375,\n",
       "         1.30221747,   1.47439007,   6.28853448, 217.56768255,\n",
       "       106.86719802,   9.73025253,  77.39369127,  53.95911529,\n",
       "         4.9228833 , 244.90509538,  87.00188974,  34.08704947,\n",
       "        30.26988974,  13.42998628,  62.54542791,  13.80207446,\n",
       "         5.32620041,   4.78943699,  83.86428928,  30.84568693,\n",
       "        13.45261154,   6.43731915,  13.47954341,  68.63558141,\n",
       "       173.11961873,  11.48699428,  16.36554743,  11.01900206,\n",
       "         4.563475  ,  47.60419291,   8.87454215,  21.04705745,\n",
       "        69.61749975,  13.47874695,  15.32582872,   8.40596606,\n",
       "        39.17374014,   8.10125317,  54.06654687,  27.33628802,\n",
       "       357.71090286,  51.66735155,  18.85536029,  11.13507465,\n",
       "         7.7415669 ,  18.52575756,   5.05968663,   8.31719358,\n",
       "        63.30015903,  36.68631003,  12.58370347,   3.71930282,\n",
       "        45.66365242,  14.10839147, 264.72202092,  32.69358862,\n",
       "        14.64752197,  23.00536816,  24.46831034,  55.02574234,\n",
       "        62.28447615,  11.21602969,  25.25621897,  17.45194479,\n",
       "        21.5573078 ,  79.91068139, 191.86124046,  24.82521564,\n",
       "         7.64800933,  23.9544221 ,  10.28876354, 225.89076474,\n",
       "         1.44806969,  23.2499977 ,  18.68372207,   3.93739565,\n",
       "       111.87703241,  24.68119394,  12.15948187,  24.28108135,\n",
       "        20.48788357, 118.36401069, 122.37593359,  23.70775329,\n",
       "        28.99678547,  19.04456147, 207.80153949,  12.34931113,\n",
       "         9.67252072,  48.2839252 ,   3.52835681,  33.64735218,\n",
       "        62.37814794,   3.7258672 ,  23.99010124,  77.98365284,\n",
       "        14.4799542 ,   7.93895109,  12.57919183,  29.13719055,\n",
       "        20.44084128,   8.07799833,  24.44161103,  10.48852168,\n",
       "       201.21498364,  19.36951278,   5.38497699,  44.72595209,\n",
       "         7.95743851,  16.71658332,  55.68556637,  10.61497092,\n",
       "        39.25914397, 110.36675331,  10.31079658,   9.28126626,\n",
       "         7.84580628,  16.75092382,  52.21605683,  19.36850556,\n",
       "        12.87600443,  22.50715316,  75.67438862,   5.78391387,\n",
       "        87.21603795,  60.84945654,  72.20761401,   4.50154453,\n",
       "        44.31730151,  12.46456465, 173.1210858 ,   9.79154119,\n",
       "        74.20506589,   6.0973615 ,  32.52218063,   6.97580411,\n",
       "        27.46253675,  43.33315953,  20.36826521,  30.30736093,\n",
       "        15.39351703,  14.67391924,  91.0926185 ,  16.56082394,\n",
       "        15.56877045,   5.22249659,   2.41876806,  20.62879494,\n",
       "       112.51182734,  10.3712316 ,  63.36762908,  12.70722725,\n",
       "        66.2787754 ,   7.10343962,  53.96851154,  32.64028484,\n",
       "         3.1368849 ,   3.04114814,  10.29840068,   7.59365694,\n",
       "         9.68627592,  49.57462514,  31.57202351,  28.39266927,\n",
       "        23.10349084,  32.45747089,  25.38256249,   8.5097684 ,\n",
       "        12.53379965,  18.95002072,   6.28918174,  11.55638787,\n",
       "        24.15895876,  23.77804071,  11.50553431,  30.82439085,\n",
       "        63.90759671,   6.77893303,  31.11379652,  19.28658667,\n",
       "        11.68071001,   8.46851778, 124.32020102,   4.60677021,\n",
       "        14.72179034,  27.07779962,   5.06635239,  10.17874538,\n",
       "        25.24043746,  14.67806074,  30.51081174,  87.66242846,\n",
       "        20.24314321,  13.88125985,   7.81617795,   6.93068368,\n",
       "        15.2304311 ,  27.8583124 ,  10.07418615,  15.40789275,\n",
       "        46.80033777,  40.54762003,   3.81362719,   5.09832698,\n",
       "         8.65466387,  19.61265966,  70.53496315,  85.40005068,\n",
       "        14.60940063,  10.4668944 ,  48.61200239,  18.13084879,\n",
       "        20.92949887,  15.15574482,  48.4616501 ,  13.79101625,\n",
       "        67.01449376,  78.84919011,  89.62616917,  41.94480248,\n",
       "         5.88796164,  20.63629084,  10.13525123,  36.32921757,\n",
       "        13.36858373,  14.25535114,   5.98714071,   3.8987099 ,\n",
       "        18.01662936,  26.07561529,  18.20373303,  20.16010045,\n",
       "        13.70903014,  12.53987889,  57.78588853,  45.42600172,\n",
       "        88.53527562,  20.51449242,  15.20363317,  66.19518723,\n",
       "         8.94036927,  12.22438555,  10.36045869,   9.64272725,\n",
       "         6.11477025,  59.36843495,  20.60025903,  26.47179301,\n",
       "        21.06723764,  18.2821364 ,   3.46715689,  32.46754087,\n",
       "        19.65778289,  21.51784095,   7.72629994,  26.05252347,\n",
       "         7.11739261,   2.81101366,  32.36060241,  11.68710302,\n",
       "         7.63003744,  27.945918  ,  18.05888648,  73.22545515,\n",
       "         8.77122693,   4.30088494, 132.70997231,  23.52547811,\n",
       "        13.39346158,  36.22174618, 221.95575259,   5.64384216,\n",
       "         1.99647256,  30.433423  , 227.19175478,   5.72343123,\n",
       "        45.35659063, 130.50641818,   2.05150556,  14.92613832,\n",
       "         2.70207732,  11.98119438,   7.59706076,  17.25207151,\n",
       "       134.76265088,   4.80896927,   5.63269282,   9.36892486,\n",
       "        23.67253123,  15.37299373,  28.05048823,  16.45670996,\n",
       "         4.73966657,  21.47295718,  15.16619528,  45.321865  ,\n",
       "        12.65410736,  60.37631527,   5.22944708,  29.03639116,\n",
       "         3.30816156,  33.47354161,  82.79266743,  20.55550286,\n",
       "        39.0140957 ,  39.64020677,  17.40256237,   8.12396471,\n",
       "        39.90594583,  24.87997847,  55.43803473,  11.76652493,\n",
       "        43.49994505,  26.33360117,  15.15033795,  17.71111934,\n",
       "        19.13573035,   3.34422645,   5.07054304,   6.78464741,\n",
       "         1.9698292 ,   9.79203164,  22.39812228,   2.67237139,\n",
       "        75.98157085,  18.13016508,  11.91561804,   2.51288866,\n",
       "        61.66532341,   2.51102453,   5.00964833,  30.67992612,\n",
       "        20.15179373,  20.13441776,   7.30179132, 269.68227079,\n",
       "        13.82937289,  17.30796445,  13.87536923,  41.03166322,\n",
       "         4.59627329,  14.32816085,  51.02823257,  13.69891563,\n",
       "        38.15463713,  26.78539078,  20.19159813,  59.2854892 ,\n",
       "        35.32801388,   7.92833766,  44.05347955,  36.80732705,\n",
       "       182.76093318,   0.75450192,  25.56514458,  16.34669424,\n",
       "         6.54779856,  17.97454132,   1.24232592,  15.18513029,\n",
       "        14.39297443,   5.44920508,   6.82618118, 329.53154148,\n",
       "         3.75288379,  26.45115432,  31.83194517,  22.0556458 ,\n",
       "        11.5865731 ,  25.00143686,   7.90064611,  22.72888668,\n",
       "        59.45682303,  51.61026226,  44.64988328,  24.42305865,\n",
       "        10.17385442,   2.10971694,  34.78404063, 122.15096287,\n",
       "         4.05905735,  16.72396719,  24.97068638,  41.35517911,\n",
       "         6.16982564,  56.15146742,  10.65977151,  21.98203846,\n",
       "        14.07792404,  13.34437952,  12.55657289,  27.52859735,\n",
       "       130.25122675,   5.23453496,  14.1859139 ,  20.64545683,\n",
       "         6.6012651 ,  12.84855334,  65.86508402,  25.69712926,\n",
       "        50.81406114,  50.31698734,  18.75892897,   6.10094673,\n",
       "         9.9950051 , 211.66163678,  15.33184866,  36.7840026 ,\n",
       "        64.34812137,   9.28009741,  35.06364078,   3.03330522,\n",
       "         6.7880474 ,  29.77373709,  29.58199819,  42.60713909,\n",
       "        12.2137437 ,   8.9439572 ,   9.91703594,  24.03483826,\n",
       "        11.00808081,  56.80580441,  11.26333516,  47.49566094,\n",
       "         4.36420412,  13.86370361,  35.15702573,  32.7899867 ,\n",
       "         0.86816238,   5.04930623,   4.40255902,  15.79987632,\n",
       "        29.00999539,  79.1563135 ,   4.94531651, 165.37235797,\n",
       "        39.25449077,  24.65674279,  22.41836129,   4.08370648,\n",
       "         7.33035328,   5.57721855,  69.34787818,  19.44815837,\n",
       "        14.47059348,  38.55839191,  59.43639329, 144.25285059,\n",
       "        21.389037  ,   6.13395982,  42.07174543,  43.70926442,\n",
       "         9.74851809, 120.75113325,  27.73281441,  36.59341352,\n",
       "        21.02601853,  77.8910038 ,  69.64106844,   8.24669868,\n",
       "        38.73864878,  15.61788986,  13.99321118,  19.31341837,\n",
       "       241.78317673,  56.67705256,  33.00691432,  23.30493777,\n",
       "        10.91622932,  23.07329283,   9.09848027,  71.66085434,\n",
       "         7.48063474,  38.12717942,   5.28208175,   3.15940329,\n",
       "        15.71993865,  17.47151111,  71.94226861,  11.9912094 ,\n",
       "         2.98586147,  68.45617761,   7.67299675,  12.52142596,\n",
       "        16.95434949,   5.42666792,  35.29250341,   5.43374368,\n",
       "        10.60509938,  33.76545013,  22.56953346,  52.45621914,\n",
       "        42.92980129,  19.72019083,  13.17789356,  31.3413448 ,\n",
       "        12.93705413,  54.53118075, 118.29817409,  38.84156315,\n",
       "        34.04304834,  21.24475166,  33.59227738,  27.97231082,\n",
       "         5.82929011,  74.69154979,   3.95117483,  11.6340865 ,\n",
       "         9.30733593,  23.07646515,   7.66270709,  18.1062202 ,\n",
       "        21.40399862,  91.5644801 ,   8.88975643, 118.19468865,\n",
       "        16.09746843,  54.16038492,   4.07748741,  33.3190861 ,\n",
       "         6.41469233, 242.00127418,  30.23750914,  27.6869272 ,\n",
       "        40.04674215,   2.3651777 ,  48.22878561,  25.59017536,\n",
       "         7.80008573,  11.893687  ,  85.81514196,  13.64284941,\n",
       "         4.73669013,  12.78133012,  24.02008098,   8.64254406,\n",
       "        25.41594729,  16.64675056,  57.50093972,  15.81625121,\n",
       "        10.67909606,  13.92158921,  39.83393554,  17.5804536 ,\n",
       "        17.56119907,  73.74005615,  30.67492443,  45.35916179,\n",
       "         8.81204702,  76.35401906,  19.30948982,  63.48297523,\n",
       "        39.91049961,  18.14023021, 191.15329925,   8.45210828,\n",
       "         2.79763804,  47.22683928,  12.07984035,  19.18901055,\n",
       "         3.37962712,  37.43044241,  23.06266207,  18.23646693,\n",
       "         8.23182535,  24.42075511,   6.52705106,  14.74274661,\n",
       "         7.58304702,  24.44338417,  28.97849776,   7.15064884,\n",
       "        37.74294743, 149.17366437,  80.86595734,  15.40689706,\n",
       "        13.59992483,  16.64211733,  88.76773923,  16.82762902,\n",
       "         4.40014651,  20.68775567,   8.54586275,  15.19731744,\n",
       "        39.5892079 ,   9.83253707,   8.57363004,   5.78597214,\n",
       "        32.59226411,   8.73026205,  20.29755228,  13.81467646,\n",
       "         8.01682512,  17.52842701,  29.86686129,  12.39258385,\n",
       "         1.46826334,   4.12276359,  14.50162712,   9.87179452,\n",
       "        13.96368347,  26.6378051 ,   4.50419965,   8.57068727,\n",
       "        14.85980399, 216.05698133,   7.54025866,  55.75561378,\n",
       "        48.14265935,  15.47986116,  13.13856438,  11.1015516 ,\n",
       "         4.79829711,  31.61040765,  11.54756416,   6.46578329,\n",
       "        62.47810336,  67.48253973,  18.9037508 ,  51.34951519,\n",
       "        14.2329948 ,   9.88609176,  18.8447433 ,  42.704034  ,\n",
       "        10.07887078,  12.09912504,   7.2008917 ,  13.33245991,\n",
       "        13.66527936,   9.23355827,  14.10690133,  19.73357139,\n",
       "        12.86148642,   3.54975077,   5.58303047,   8.73426101,\n",
       "        24.22675499,  26.20746319,   4.76331465,  22.5144875 ,\n",
       "        25.61970011,  77.46057475,  27.08100572,  13.01502393,\n",
       "         6.01804889,   6.59625021,  18.00174164,  38.27507537,\n",
       "        18.16691749,  85.84492803,  67.86504744,  17.62978075,\n",
       "        56.27631284, 159.26365549,   6.82895972,  11.44154634,\n",
       "         2.23537626,  16.59124078,   8.4308087 ,  53.23558754,\n",
       "        19.06700151,   4.78392614,   8.79588715,  18.07080321,\n",
       "        38.86620289,  42.32305957,  52.25012348,  42.63110154,\n",
       "         3.81806623, 119.24354318, 127.42946713,  14.15427948,\n",
       "        33.80822867,  18.08282862,  11.17460617,  53.40497272,\n",
       "         8.6748656 ,  57.24273599, 265.28083034,  14.81637562,\n",
       "        10.16771967,  36.39686676, 169.20086768,  83.66588137,\n",
       "        12.95171693, 135.71582784,  17.91605017,  25.0418104 ,\n",
       "        13.77341257,   2.17376201,  21.07088505,  93.8293681 ,\n",
       "         6.44611558,  25.08447943,  12.6048521 ,  22.55120315,\n",
       "         7.17710954,  14.92017954,  56.46421128,  48.32082429])"
      ]
     },
     "execution_count": 49,
     "metadata": {},
     "output_type": "execute_result"
    }
   ],
   "source": [
    "log"
   ]
  },
  {
   "cell_type": "code",
   "execution_count": 50,
   "id": "372f30e8",
   "metadata": {},
   "outputs": [
    {
     "data": {
      "text/plain": [
       "<Axes: ylabel='Count'>"
      ]
     },
     "execution_count": 50,
     "metadata": {},
     "output_type": "execute_result"
    },
    {
     "data": {
      "image/png": "[encoded data removed]",
      "text/plain": [
       "<Figure size 640x480 with 1 Axes>"
      ]
     },
     "metadata": {},
     "output_type": "display_data"
    }
   ],
   "source": [
    "sns.histplot(log,kde=True)"
   ]
  },
  {
   "cell_type": "code",
   "execution_count": 51,
   "id": "483d9ba9",
   "metadata": {},
   "outputs": [
    {
     "data": {
      "text/plain": [
       "<Axes: ylabel='Count'>"
      ]
     },
     "execution_count": 51,
     "metadata": {},
     "output_type": "execute_result"
    },
    {
     "data": {
      "image/png": "[encoded data removed]",
      "text/plain": [
       "<Figure size 640x480 with 1 Axes>"
      ]
     },
     "metadata": {},
     "output_type": "display_data"
    }
   ],
   "source": [
    "sns.histplot(np.log(log),kde=True)"
   ]
  },
  {
   "cell_type": "markdown",
   "id": "8f3bba16",
   "metadata": {},
   "source": [
    "# Q-Q Plot"
   ]
  },
  {
   "cell_type": "code",
   "execution_count": 63,
   "id": "b7f92970",
   "metadata": {},
   "outputs": [],
   "source": [
    "import matplotlib.pyplot as plt\n",
    "import scipy.stats as stat\n",
    "import pylab\n",
    "def plot_data(sample):\n",
    "    plt.figure(figsize=(10,6))\n",
    "    plt.subplot(1,2,1)\n",
    "    sns.histplot(sample,kde=True)\n",
    "    plt.subplot(1,2,2)\n",
    "    stat.probplot(sample,dist='norm',plot=pylab)\n",
    "    plt.show()"
   ]
  },
  {
   "cell_type": "code",
   "execution_count": 68,
   "id": "4b82bfc9",
   "metadata": {},
   "outputs": [
    {
     "data": {
      "image/png": "[encoded data removed]",
      "text/plain": [
       "<Figure size 1000x600 with 2 Axes>"
      ]
     },
     "metadata": {},
     "output_type": "display_data"
    }
   ],
   "source": [
    "plot_data(data)"
   ]
  },
  {
   "cell_type": "code",
   "execution_count": 66,
   "id": "056c9963",
   "metadata": {},
   "outputs": [
    {
     "data": {
      "image/png": "[encoded data removed]",
      "text/plain": [
       "<Figure size 1000x600 with 2 Axes>"
      ]
     },
     "metadata": {},
     "output_type": "display_data"
    }
   ],
   "source": [
    "plot_data(gaussian)  #q-q plot--> helps to check weather our data is normally distributed or not."
   ]
  },
  {
   "cell_type": "code",
   "execution_count": 67,
   "id": "0051338e",
   "metadata": {},
   "outputs": [
    {
     "data": {
      "image/png": "[encoded data removed]",
      "text/plain": [
       "<Figure size 1000x600 with 2 Axes>"
      ]
     },
     "metadata": {},
     "output_type": "display_data"
    }
   ],
   "source": [
    "plot_data(log) "
   ]
  },
  {
   "cell_type": "markdown",
   "id": "c52510a9",
   "metadata": {},
   "source": [
    "### panda profiling \n",
    "   - gives the complete profile of the data."
   ]
  },
  {
   "cell_type": "code",
   "execution_count": 2,
   "id": "e3bcafa6",
   "metadata": {},
   "outputs": [],
   "source": [
    "import pandas as pd\n",
    "titanic_data=pd.read_csv(\"titanic.csv\")"
   ]
  },
  {
   "cell_type": "code",
   "execution_count": 4,
   "id": "713d38ea",
   "metadata": {},
   "outputs": [],
   "source": [
    "import ydata_profiling\n",
    "profile=titanic_data.profile_report()\n"
   ]
  },
  {
   "cell_type": "code",
   "execution_count": 5,
   "id": "8672879e",
   "metadata": {},
   "outputs": [
    {
     "data": {
      "application/vnd.jupyter.widget-view+json": {
       "model_id": "5348bc5899e64635815c42f40ce04a20",
       "version_major": 2,
       "version_minor": 0
      },
      "text/plain": [
       "Summarize dataset:   0%|          | 0/5 [00:00<?, ?it/s]"
      ]
     },
     "metadata": {},
     "output_type": "display_data"
    },
    {
     "data": {
      "application/vnd.jupyter.widget-view+json": {
       "model_id": "5c01db4390da461c866a8ec30aa27cfe",
       "version_major": 2,
       "version_minor": 0
      },
      "text/plain": [
       "Generate report structure:   0%|          | 0/1 [00:00<?, ?it/s]"
      ]
     },
     "metadata": {},
     "output_type": "display_data"
    },
    {
     "data": {
      "application/vnd.jupyter.widget-view+json": {
       "model_id": "f8ea5ce0f60d4885b5baa9f163cfd5ef",
       "version_major": 2,
       "version_minor": 0
      },
      "text/plain": [
       "Render HTML:   0%|          | 0/1 [00:00<?, ?it/s]"
      ]
     },
     "metadata": {},
     "output_type": "display_data"
    },
    {
     "data": {
      "application/vnd.jupyter.widget-view+json": {
       "model_id": "d44621883edd417494a7f9835424b3c0",
       "version_major": 2,
       "version_minor": 0
      },
      "text/plain": [
       "Export report to file:   0%|          | 0/1 [00:00<?, ?it/s]"
      ]
     },
     "metadata": {},
     "output_type": "display_data"
    }
   ],
   "source": [
    "profile.to_file(output_file=\"output.html\")"
   ]
  },
  {
   "cell_type": "code",
   "execution_count": null,
   "id": "00ff7a7d",
   "metadata": {},
   "outputs": [],
   "source": []
  }
 ],
 "metadata": {
  "kernelspec": {
   "display_name": "Python 3 (ipykernel)",
   "language": "python",
   "name": "python3"
  },
  "language_info": {
   "codemirror_mode": {
    "name": "ipython",
    "version": 3
   },
   "file_extension": ".py",
   "mimetype": "text/x-python",
   "name": "python",
   "nbconvert_exporter": "python",
   "pygments_lexer": "ipython3",
   "version": "3.10.9"
  }
 },
 "nbformat": 4,
 "nbformat_minor": 5
}
